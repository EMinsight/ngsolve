{
 "cells": [
  {
   "cell_type": "markdown",
   "id": "e585f4ce",
   "metadata": {},
   "source": [
    "# 5.5 Solving the Poisson Equation using CUDA"
   ]
  },
  {
   "cell_type": "markdown",
   "id": "63595009",
   "metadata": {},
   "source": [
    "We use the **ngscuda** library to move compute intense linear algebra operations onto a GPU. The library is now included in NGSolve Linux - distributions, and can be used whenever an accelerator card by NVIDIA is available, and the cuda-runtime is installed."
   ]
  },
  {
   "cell_type": "code",
   "execution_count": 1,
   "id": "0aa06af8",
   "metadata": {},
   "outputs": [],
   "source": [
    "from ngsolve import *"
   ]
  },
  {
   "cell_type": "code",
   "execution_count": 2,
   "id": "ab653ebe",
   "metadata": {},
   "outputs": [
    {
     "name": "stdout",
     "output_type": "stream",
     "text": [
      "ndof = 119425\n"
     ]
    }
   ],
   "source": [
    "mesh = Mesh(unit_square.GenerateMesh(maxh=0.1))\n",
    "for l in range(4):\n",
    "    mesh.Refine()\n",
    "fes = H1(mesh, order=2, dirichlet=\".*\")\n",
    "print (\"ndof =\", fes.ndof)\n",
    "\n",
    "u, v = fes.TnT()\n",
    "with TaskManager():\n",
    "    a = BilinearForm(grad(u)*grad(v)*dx+u*v*dx).Assemble()\n",
    "    f = LinearForm(x*v*dx).Assemble()\n",
    "\n",
    "gfu = GridFunction(fes)\n",
    "\n",
    "jac = a.mat.CreateSmoother(fes.FreeDofs())\n",
    "\n",
    "with TaskManager(): \n",
    "    inv_host = CGSolver(a.mat, jac, maxsteps=2000)\n",
    "    gfu.vec.data = inv_host * f.vec"
   ]
  },
  {
   "cell_type": "markdown",
   "id": "54212b68",
   "metadata": {},
   "source": [
    "Now we import the NGSolve - cuda library.\n",
    "\n",
    "It provides\n",
    "\n",
    "* an `UnifiedVector`, which allocates memory on both, host and device. The data is updated on demand either on host, or on device. \n",
    "* NGSolve - matrices can create their counterparts on the device. In the following, the conjugate gradients iteration runs on the host, but all operations involving big data are performed on the accelerator."
   ]
  },
  {
   "cell_type": "code",
   "execution_count": 6,
   "id": "e1cfa180",
   "metadata": {},
   "outputs": [
    {
     "name": "stdout",
     "output_type": "stream",
     "text": [
      "no CUDA library or device available, using replacement types on host\n",
      "No DeviceVector creator function for type N4ngla15S_BaseVectorPtrIdEE, using create host-vector\n"
     ]
    }
   ],
   "source": [
    "try:\n",
    "    from ngsolve.ngscuda import *\n",
    "except:\n",
    "    print (\"no CUDA library or device available, using replacement types on host\")\n",
    "    \n",
    "ngsglobals.msg_level=1\n",
    "fdev = f.vec.CreateDeviceVector(copy=True)"
   ]
  },
  {
   "cell_type": "code",
   "execution_count": 7,
   "id": "07316770",
   "metadata": {},
   "outputs": [
    {
     "name": "stdout",
     "output_type": "stream",
     "text": [
      "diff =  0.0\n"
     ]
    }
   ],
   "source": [
    "adev = a.mat.CreateDeviceMatrix()\n",
    "jacdev = jac.CreateDeviceMatrix()\n",
    "\n",
    "inv = CGSolver(adev, jacdev, maxsteps=2000, printrates=False)\n",
    "res = (inv * fdev).Evaluate()\n",
    "\n",
    "diff = Norm(gfu.vec - res)\n",
    "print (\"diff = \", diff)"
   ]
  },
  {
   "cell_type": "code",
   "execution_count": null,
   "id": "b12e5bcd",
   "metadata": {},
   "outputs": [],
   "source": []
  }
 ],
 "metadata": {
  "kernelspec": {
   "display_name": "Python 3 (ipykernel)",
   "language": "python",
   "name": "python3"
  },
  "language_info": {
   "codemirror_mode": {
    "name": "ipython",
    "version": 3
   },
   "file_extension": ".py",
   "mimetype": "text/x-python",
   "name": "python",
   "nbconvert_exporter": "python",
   "pygments_lexer": "ipython3",
   "version": "3.10.8"
  }
 },
 "nbformat": 4,
 "nbformat_minor": 5
}
