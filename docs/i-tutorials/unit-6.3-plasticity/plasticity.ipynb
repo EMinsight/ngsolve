{
 "cells": [
  {
   "cell_type": "markdown",
   "id": "af2a98d1",
   "metadata": {},
   "source": [
    "# 6.3 Elasto-Plasticity\n",
    "\n",
    "\n",
    "This tutorial considers Hencky-type [1] plasticity with isotropic hardening in 2d (plane strain).\n",
    "It showcases the classes `IntegrationRuleSpace`, `NewtonCF` and `MinimizationCF`.\n",
    "\n",
    "We begin with a classical formulation with an explcit yield surface that is probably more familiar to engineers. \n",
    "In a second stage, we reformulate the nonlinear evolution problems to a minimization problem which leads to a more streamlined implementation.\n",
    "\n",
    "The essential model ingredients are given in terms of the dissipation potential $\\Phi$ and the stress response \n",
    "(material law; plane-strain) from which one can build the stored energy density contribution $\\Psi$, see eg, [2]. For convenience, we first introduce the strain energy density $\\Psi^\\text{e}$\n",
    "\n",
    "\\begin{align*}\n",
    "\\Psi^\\text{e}(\\epsilon) = \\| \\epsilon\\|^2_{M} = \\frac{E}{(1+\\nu)(1-2\\nu)}\\left((1-2\\nu)\\epsilon:\\epsilon + \\nu \\,\\text{tr}(\\epsilon)^2\\right) = \\epsilon : \\mathbf{C} : \\epsilon.\n",
    "\\end{align*}\n",
    "\n",
    "Moreover, we consider the full strain $\\epsilon$ to be the sum of the elastic $\\epsilon^e$ and the plastic strain contribution $p$.\n",
    "Conversely, the elastic strain is the given as \n",
    "\\begin{equation} \\epsilon^\\text{e} = \\epsilon - p .\\end{equation}\n",
    "The isotropic hardening variable will be denoted by $\\alpha$ throught this tutorial. The hardening potential\n",
    "density is simply chosen as\n",
    "$\\Psi^\\text{h} = \\frac{H\\,\\alpha^2}{2}$ such that the total energy density reads\n",
    "\\begin{equation*}\n",
    "\\Psi((\\epsilon - p), \\alpha) = (\\epsilon - p) : \\mathbf{C} : (\\epsilon - p) + \\frac{H}{2} \\alpha^2.\n",
    "\\end{equation*}\n",
    "\n",
    "\n",
    "## Formulation with explicit yield surface\n",
    "\n",
    "Based on the principle of maximum dissipation we can abstractly formulate the dissipation potential as\n",
    "\n",
    "\\begin{align*}\n",
    "\\Phi(\\dot{p}, \\dot{\\alpha}) = \n",
    "  \\sup_{\\sigma} \\sup_{\\beta} \\inf_{\\lambda \\geq 0} \n",
    "    \\: \\sigma : \\dot{p} + \\beta \\dot{\\alpha} - \\lambda (\\left|\\mathrm{dev} \\sigma\\right| - \\sigma_Y(1 + \\beta))\n",
    "\\end{align*}\n",
    "\n",
    "where $\\left|\\mathrm{dev} \\sigma\\right| - \\sigma_Y(1 + \\beta)$ is the yield function, which represents the elastic\n",
    "limit. The stationary conditions of the above functional read as\n",
    "\n",
    "\\begin{align*} \n",
    "  &\\dot{p} = \\lambda \\frac{\\partial \\left|\\mathrm{dev} \\sigma\\right|}{\\partial \\sigma} \\\\\n",
    "  &\\dot{\\alpha} = \\lambda -\\sigma_Y \\\\\n",
    "  &\\{\\lambda >= 0 \\: \\land \\: (\\left|\\mathrm{dev} \\sigma\\right| - \\sigma_Y(1 + \\beta)) <= 0 \\: \\land \\:\n",
    "  \\lambda(\\left|\\mathrm{dev} \\sigma\\right| - \\sigma_Y(1 + \\beta)) = 0\\}\n",
    "\\end{align*}\n",
    "\n",
    "which are regarded as evolution equations for $p$ and $\\alpha$. The actual values of $\\sigma$ and $\\beta$ are\n",
    "obtained through the constitutive relations provided by the framework of generalized standard materials, we have\n",
    "\n",
    "\\begin{align*}\n",
    "&\\frac{\\partial\\Psi((\\epsilon - p), \\alpha)}{\\partial p} + \\frac{\\partial\\Phi}{\\partial \\dot{p}} = 0 \\quad \\Rightarrow \\quad \\sigma = \\mathbf{C} : (\\epsilon - p) \\\\\n",
    "&\\frac{\\partial\\Psi((\\epsilon - p), \\alpha)}{\\partial \\alpha} + \\frac{\\partial\\Phi}{\\partial \\dot{\\alpha}} = 0\n",
    "\\quad \\Rightarrow \\quad \\beta = - H \\alpha .\n",
    "\\end{align*}\n",
    "\n",
    "\n",
    "\n",
    "\n",
    "## Constrained minimization formulation\n",
    "\n",
    "\n",
    "A semi-implicit time-discrete formulation of the model including hardening reads [3]:  \n",
    "For the given state $(u^k,p^k, \\alpha^k)$ find a new solution $(u^{k+1},p^{k+1})$ such that\n",
    "\\begin{align*}\n",
    "\\text{1.} & \\: && \\int\\Psi(\\epsilon(u^{k+1}), p^{k+1},p^{k}, \\alpha^{k})+\\Phi(p^{k+1},p^k)- f^{k+1}\\cdot \n",
    "u^{k+1}\\,dx \\rightarrow \\min \\\\\n",
    "\\text{2.} & \\: && \\alpha^{k+1}=\\alpha^k+\\sigma_y H \\|p^{k+1}-p^k\\| ,\n",
    "\\end{align*}\n",
    "with\n",
    "\\begin{align*}\n",
    "&\\Psi(\\epsilon(u), p, p^k, \\alpha^k) = \\frac{1}{2} \\|\\epsilon(u)-p\\|_{M}^2 \n",
    "    + \\frac{1}{2} \\left(\\alpha^k + \\sigma_y H \\|p-p^k\\|_{\\varepsilon}\\right)^2 \\quad\\text{and}\\quad\n",
    "\\\\\n",
    "&\\Phi(p,p^k) = \\sigma_Y \\|p-p^k\\|_{\\varepsilon},\n",
    "\\end{align*}\n",
    "\n",
    "where $\\Psi$ denotes the augmented stored energy density and $\\|\\bullet \\|_{\\varepsilon}$ indicates a perturbed norm in order to avoid divisions by zero in the evaluation of the time-discrete evolution equation derived from an incremental variational principle.\n",
    "\n",
    "The state $u$ is spatially discretized by continuous Lagrange elements, the internal states $p$ and $\\alpha$ reside at quadrature points, for which NGSolve has the notion of an integration rule space. Thus, the problem above can be decomposed into a \"global\" problem for the displacements and local problems for the interal variables. The latter can be solved individually for each quadrature point. However, there is a coupling between the local problems and\n",
    "displacements, which has to be accounted for by what is called \"algorithmically consistent linearization\".\n",
    "\n",
    "\n",
    "**References**\n",
    " 1. [W. Han and B.D. Reddy: Mathematical Theory and Numerical Analysis, Springer 1999](https://www.springer.com/gp/book/9781461459392)\n",
    " 2. [K. Hackl, F.D. Fischer, On the relation between the principle of maximum dissipation and inelastic evolution given by dissipation potentials, PRSA, 2008](https://doi.org/10.1098/rspa.2007.0086)\n",
    " 3. [C. Carstensen, Domain Decomposition for a Non-smooth Convex Minimization Problem and its Application in Plasticity, 1997](https://doi.org/10.1002/(SICI)1099-1506(199705/06)4:3<177::AID-NLA106>3.0.CO;2-B)"
   ]
  },
  {
   "cell_type": "code",
   "execution_count": null,
   "id": "08f94b61",
   "metadata": {},
   "outputs": [],
   "source": [
    "from ngsolve import *\n",
    "from ngsolve.comp import IntegrationRuleSpace\n",
    "from ngsolve.fem import MinimizationCF\n",
    "from netgen.geom2d import CSG2d, Circle, Rectangle\n",
    "from ngsolve.webgui import Draw\n",
    "SetNumThreads(1)"
   ]
  },
  {
   "cell_type": "markdown",
   "id": "180b8bc3",
   "metadata": {},
   "source": [
    "The problem domain is the classical plate with hole. Thanks to symmetry of the problem to be solve, we actually use only one quarter of the domain together with additional symmetry boundary conditions.\n",
    "Parameters for the geometry and the material employed are taken from [4].\n",
    "\n",
    "\n",
    "4. [A. Düster and E. Rank: The p-version of the fnite element method compared to an\n",
    "adaptive h-version for the deformation theory of plasticity, CMAME 190 (2001) 1925-1935](https://doi.org/10.1016/S0045-7825(00)00215-2)"
   ]
  },
  {
   "cell_type": "code",
   "execution_count": null,
   "id": "55e0a4c8",
   "metadata": {},
   "outputs": [],
   "source": [
    "# polynomial order for geometry and displacements\n",
    "order = 3\n",
    "\n",
    "geo = CSG2d()\n",
    "circle = Circle(center=(100,100), radius=10.0, bc=\"curve\").Maxh(1)\n",
    "rect = Rectangle(pmin=(0,100), pmax=(100,200), bottom=\"bottom\", left=\"left\", top=\"top\", right=\"right\")\n",
    "geo.Add(rect-circle)\n",
    "mesh = Mesh(geo.GenerateMesh(maxh=5))\n",
    "mesh.Curve(order)\n",
    "Draw(mesh)\n",
    "\n",
    "# points of interest for post-processing\n",
    "node_A = mesh(100,200)\n",
    "node_B = mesh(0,200)"
   ]
  },
  {
   "cell_type": "markdown",
   "id": "1264f81b",
   "metadata": {},
   "source": [
    "We employ a $H^1$ space for the displacements and a symmetrix-matrix-valued \"integration rule space\" (IR space) for the internal variable $p$. For the hardening variable $\\alpha$ (also internal), we simply use a scalar IR space."
   ]
  },
  {
   "cell_type": "code",
   "execution_count": null,
   "id": "a8c3cb15",
   "metadata": {},
   "outputs": [],
   "source": [
    "fes_u = VectorH1(mesh, order=order, dirichletx=\"right\", dirichlety=\"bottom\")\n",
    "fes_ir = IntegrationRuleSpace(mesh, order=order-1)\n",
    "fes_p = MatrixValued(fes_ir, symmetric=True, deviatoric=False)\n",
    "\n",
    "# We need a coupled space as well. Note that alpha is solved for separately and thus we only have u and p here\n",
    "fes = fes_u * fes_p\n",
    "u, p = fes.TrialFunction()\n",
    "\n",
    "# GridFunction for solution\n",
    "gfsol = GridFunction(fes)\n",
    "gfu, gfp = gfsol.components\n",
    "\n",
    "# Save previous solution\n",
    "gfsol_k = GridFunction(fes)\n",
    "gfu_k, gfp_k = gfsol_k.components\n",
    "\n",
    "#alpha_0 = 0\n",
    "alpha_k = GridFunction(fes_ir)"
   ]
  },
  {
   "cell_type": "markdown",
   "id": "680f0f2a",
   "metadata": {},
   "source": [
    "Since the internal variables are only available on a defined set of quadrature points,\n",
    "we need to use the corresponding quadrature rules for integration. This is done via"
   ]
  },
  {
   "cell_type": "code",
   "execution_count": null,
   "id": "5ea6ab01",
   "metadata": {},
   "outputs": [],
   "source": [
    "# extract integration rules from IntegrationRuleSpace\n",
    "irs_dx = dx(intrules=fes_ir.GetIntegrationRules())"
   ]
  },
  {
   "cell_type": "markdown",
   "id": "cf8b48d6",
   "metadata": {},
   "source": [
    "Next we setup functions for the constitutive functions $\\Psi$ and $\\Phi$"
   ]
  },
  {
   "cell_type": "code",
   "execution_count": null,
   "id": "9c0701cf",
   "metadata": {},
   "outputs": [],
   "source": [
    "mu = 80193.8\n",
    "kappa = 164206\n",
    "Emod = (9 * kappa * mu) / (3 * kappa + mu)\n",
    "nu = (3 * kappa - 2 * mu)/(2 * (3 * kappa + mu))\n",
    "print(\"E =\", Emod, \", nu =\", nu)\n",
    "lmbda = Emod * nu / (1 + nu)/(1 - 2 * nu)\n",
    "mu = Emod / (2 * (1 + nu))\n",
    "print(\"mu =\", mu, \", lam =\", lmbda)\n",
    "H = 0.0\n",
    "sigma_Y = sqrt(2/3)*450\n",
    "\n",
    "def elastic_strain_energy(eps, p, mu, lam):\n",
    "    return InnerProduct(2 * mu * (eps - p) + lam * Trace(eps) * Id(2), eps - p) \\\n",
    "            + (lam*Trace(eps) + 2 * mu * Trace(p)) * Trace(p)\n",
    "\n",
    "\n",
    "def perturbed_tensor_norm(a):\n",
    "    return sqrt(InnerProduct(a, a) + Trace(a)**2+1e-16)\n",
    "\n",
    "\n",
    "def Psi(p, strain, p_k, alpha_k):\n",
    "    strain_energy = 0.5 * elastic_strain_energy(strain, p, mu, lmbda)\n",
    "    alpha = alpha_k + sigma_Y * H * perturbed_tensor_norm(p - p_k)\n",
    "    hardening    = 0.5 * alpha**2\n",
    "    \n",
    "    return strain_energy + hardening\n",
    "\n",
    "\n",
    "# Dissipation potential: For rate-independent plasticity (homogeneous of degree 1 in the rate of p) \n",
    "# this the dissipation!\n",
    "Delta_t = 1 # only for formal reasons here\n",
    "\n",
    "def Phi(p, p_k):\n",
    "    return sigma_Y * perturbed_tensor_norm(p - p_k)"
   ]
  },
  {
   "cell_type": "markdown",
   "id": "2f8c9162",
   "metadata": {},
   "source": [
    "and loads."
   ]
  },
  {
   "cell_type": "code",
   "execution_count": null,
   "id": "0afd9ec5",
   "metadata": {},
   "outputs": [],
   "source": [
    "force = 450\n",
    "# For loadsteps\n",
    "loadfactor = Parameter(1)"
   ]
  },
  {
   "cell_type": "markdown",
   "id": "02ba3f9a",
   "metadata": {},
   "source": [
    "Finally, we have all ingredients for the variational formulation: \n",
    "\n",
    "Find for given  $(u^k,p^k)$ a solution $(u^{k+1},p^{k+1})$ such that\n",
    "\\begin{align*}\n",
    "\\Psi(\\epsilon(u^{k+1}), p^{k+1},p^{k}) + \\Phi(p^{k+1},p^k)-\\int f^{k+1}\\cdot u^{k+1}\\,dx \\rightarrow \\min!\n",
    "\\end{align*}"
   ]
  },
  {
   "cell_type": "code",
   "execution_count": null,
   "id": "6e857bf4",
   "metadata": {},
   "outputs": [],
   "source": [
    "a = BilinearForm(fes, symmetric=True)\n",
    "a += Variation( Psi(p, Sym(Grad(u)), gfp_k, alpha_k) * irs_dx ).Compile()\n",
    "a += Variation( Phi(p, gfp_k) * irs_dx ).Compile()\n",
    "a += Variation( -u[1] * force * loadfactor * ds(\"top\") ).Compile()"
   ]
  },
  {
   "cell_type": "markdown",
   "id": "363b35ad",
   "metadata": {},
   "source": [
    "Since Phi(p, gfp_k) is included above, we automatically obtain an \"algorithmically\n",
    "consistent linearization\", correspondig to the local evolution"
   ]
  },
  {
   "cell_type": "code",
   "execution_count": null,
   "id": "eada234b",
   "metadata": {},
   "outputs": [],
   "source": [
    "evolution_objective = (Psi(p, Sym(Grad(gfu)), gfp_k, alpha_k) + Phi(p,gfp_k)).Compile()"
   ]
  },
  {
   "cell_type": "markdown",
   "id": "15abe2a5",
   "metadata": {},
   "source": [
    "which will be used to solve for `p` in a nested way, ie. for each \"guess\" for `u^{k+1}`."
   ]
  },
  {
   "cell_type": "code",
   "execution_count": null,
   "id": "0c3693ba",
   "metadata": {},
   "outputs": [],
   "source": []
  },
  {
   "cell_type": "markdown",
   "id": "1448a9a6",
   "metadata": {},
   "source": [
    "Now some data structures for postprocessing..."
   ]
  },
  {
   "cell_type": "code",
   "execution_count": null,
   "id": "ba82a30f",
   "metadata": {},
   "outputs": [],
   "source": [
    "# reconstruct p for drawing\n",
    "drawfes = MatrixValued(L2(mesh, order=order-1), dim=2, symmetric=True, deviatoric=True)\n",
    "pd, qd = drawfes.TnT()\n",
    "pdraw = GridFunction(drawfes)\n",
    "ad = BilinearForm(InnerProduct(pd, qd)*irs_dx).Assemble()\n",
    "invad = ad.mat.Inverse()\n",
    "fd = LinearForm(InnerProduct(gfp, qd)*irs_dx)\n",
    "\n",
    "# reconstruct alpha for drawing\n",
    "drawafes = L2(mesh, order=order-1)\n",
    "pda, qda = drawafes.TnT()\n",
    "adraw = GridFunction(drawafes)\n",
    "ada = BilinearForm(InnerProduct(pda, qda)*irs_dx).Assemble()\n",
    "invada = ada.mat.Inverse()\n",
    "fda = LinearForm(InnerProduct(alpha_k, qda)*irs_dx)"
   ]
  },
  {
   "cell_type": "markdown",
   "id": "277e0107",
   "metadata": {},
   "source": [
    "In order to run the problem, we need to define vectors that store respective solution data, define loadsteps\n",
    "and setup a loop that iterates through the latter.\n",
    "\n",
    "The nonlinear PDE is solved with a Newton-Raphson scheme. Thereby, in each Newton iteration\n",
    "we solve a linearized PDE for the displacements and a nonlinear evolution problem at each quadratire point via *`MinimizationCF`*"
   ]
  },
  {
   "cell_type": "code",
   "execution_count": null,
   "id": "5c420c41",
   "metadata": {},
   "outputs": [],
   "source": [
    "# a set of vectors for keeping data\n",
    "vec_k = gfsol.vec.CreateVector()\n",
    "w      = gfsol.vec.CreateVector()\n",
    "rhs    = gfsol.vec.CreateVector()\n",
    "\n",
    "# load steps (chosen based on experience)\n",
    "loadsteps = [0.1,0.3,0.5,0.7,0.8,0.9,0.95,1.0]\n",
    "\n",
    "# set solution to zero initially\n",
    "gfsol.vec[:] = 0\n",
    "alpha_k.vec[:] = 0\n",
    "\n",
    "# evolution params (default values of MinimizationCF at the time of writing)\n",
    "tol = 1e-6\n",
    "maxiter = 20\n",
    "\n",
    "# iterate through load steps\n",
    "for ls in loadsteps:\n",
    "    loadfactor.Set(ls)\n",
    "    \n",
    "    # update old solution at time t = t_k\n",
    "    gfsol_k.vec.data = gfsol.vec\n",
    "    with TaskManager():\n",
    "        for i in range(200):\n",
    "            energy_k = a.Energy(gfsol.vec)\n",
    "            #print (\"energy(t_k) = \", energy_k)\n",
    "            \n",
    "            a.AssembleLinearization(gfsol.vec)\n",
    "            a.Apply(gfsol.vec, rhs)\n",
    "            \n",
    "            # static condensation establishes the \"consistent linearization\"\n",
    "            w.data = a.mat.Inverse(freedofs=fes.FreeDofs(False), inverse=\"sparsecholesky\") * rhs\n",
    "\n",
    "            # linesearch ( with damping)\n",
    "            vec_k.data = gfsol.vec\n",
    "            alpha = 1\n",
    "            while alpha > 1e-7:\n",
    "                gfsol.vec.data -= min(1, 0.3 * (int(i / 2) + 1)) * alpha * w\n",
    "                energy1 = a.Energy(gfsol.vec)\n",
    "                \n",
    "                # Here we solve the evolution equation as each quadrature point through evaluation of \n",
    "                # the MinimizationCF.\n",
    "                gfp.Interpolate(MinimizationCF(evolution_objective, gfp, tol=tol, maxiter=maxiter))\n",
    "                # MinimizationCF takes the objective function, the initial guess (most likely the previous solution),\n",
    "                # tolerances and the maximum number of iterations.\n",
    "                \n",
    "                energy2 = a.Energy(gfsol.vec)\n",
    "                \n",
    "                # print (\"alpha =\", alpha, \"energy =\", energy2, \" inc energy1 = \", energy1-energy_k, \" inc2=\", energy2-energyold)\n",
    "                # input (\"key\")\n",
    "                if energy2 < energy_k + 1e-12: \n",
    "                    break\n",
    "                alpha *= 0.5\n",
    "                gfsol.vec.data = vec_k\n",
    "                \n",
    "\n",
    "            err = sqrt(InnerProduct(w, rhs))\n",
    "            print(\"step \", i, \"err = \", err)\n",
    "            \n",
    "            # check convergence\n",
    "            if err < 1e-6: break\n",
    "    \n",
    "    alpha_k.Interpolate(alpha_k + sigma_Y * H * sqrt(InnerProduct(gfp - gfp_k, gfp - gfp_k)))\n",
    "     \n",
    "    print(\"force = \", ls * force, \", uy_A =\", gfu(node_A)[1], \", ux_B =\", gfu(node_B)[0],\\\n",
    "          \", int u2 =\", Integrate(gfu[1] * ds(\"top\"),mesh))\n",
    "    \n",
    "    # for Drawing\n",
    "    fd.Assemble()\n",
    "    pdraw.vec.data = invad * fd.vec\n",
    "    Draw(Norm(pdraw), mesh, \"p\")\n",
    "    Draw(gfu,mesh)\n",
    "    \n",
    "    fda.Assemble()\n",
    "    adraw.vec.data = invada * fda.vec\n",
    "    #Draw(Norm(adraw), mesh, \"alpha\")"
   ]
  },
  {
   "cell_type": "markdown",
   "id": "c4fa6878",
   "metadata": {},
   "source": [
    "result: uy_A = 6.14972e-2, ux_B = 0.24662, int u2 = 22.4163\n",
    "\n",
    "reference values [5]: (uy_A) u4y=0.24690, (ux_B) ux5 = 6.1389e-2, int u2 = 22.454\n",
    "\n",
    "5. [R. Rannacher, F.-T. Suttmeier: A posteriori error estimation and mesh adaptation for finite element\n",
    "models in elasto-plasticity, CMAME 176 (1999) 333-361](https://doi.org/10.1016/S0045-7825(98)00344-2)"
   ]
  },
  {
   "cell_type": "code",
   "execution_count": null,
   "id": "55ba6ce4",
   "metadata": {},
   "outputs": [],
   "source": []
  }
 ],
 "metadata": {
  "kernelspec": {
   "display_name": "Python 3 (ipykernel)",
   "language": "python",
   "name": "python3"
  },
  "language_info": {
   "codemirror_mode": {
    "name": "ipython",
    "version": 3
   },
   "file_extension": ".py",
   "mimetype": "text/x-python",
   "name": "python",
   "nbconvert_exporter": "python",
   "pygments_lexer": "ipython3",
   "version": "3.9.6"
  },
  "toc": {
   "base_numbering": 1,
   "nav_menu": {},
   "number_sections": true,
   "sideBar": true,
   "skip_h1_title": false,
   "title_cell": "Table of Contents",
   "title_sidebar": "Contents",
   "toc_cell": false,
   "toc_position": {},
   "toc_section_display": true,
   "toc_window_display": true
  }
 },
 "nbformat": 4,
 "nbformat_minor": 5
}
