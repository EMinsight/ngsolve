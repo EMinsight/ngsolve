{
 "cells": [
  {
   "cell_type": "markdown",
   "id": "af2a98d1",
   "metadata": {},
   "source": [
    "# 6.3 Elasto-Plasticity\n",
    "\n",
    "\n",
    "This tutorial considers Hencky-type [1] plasticity with isotropic hardening in 2d (plane strain).\n",
    "It showcases the classes `IntegrationRuleSpace`, `NewtonCF` and `MinimizationCF`.\n",
    "\n",
    "We begin with a classical formulation with an explicit yield surface that is probably more familiar to engineers. \n",
    "In a second stage, we reformulate the nonlinear evolution problems to a minimization problem which leads to a more streamlined implementation.\n",
    "\n",
    "The essential model ingredients are given in terms of the dissipation potential $\\Phi$ and the stress response \n",
    "(material law; plane-strain) from which one can build the stored energy density contribution $\\Psi$, see eg, [2]. For convenience, we first introduce the strain energy density $\\Psi^\\text{e}$\n",
    "\n",
    "\\begin{align*}\n",
    "\\Psi^\\text{e}(\\epsilon) = \\frac{1}{2}\\| \\epsilon\\|^2_{M} = \\frac{E}{2(1+\\nu)(1-2\\nu)}\\left((1-2\\nu)\\epsilon:\\epsilon + \\nu \\,\\text{tr}(\\epsilon)^2\\right) = \\frac{1}{2} \\epsilon : \\mathbf{C} : \\epsilon.\n",
    "\\end{align*}\n",
    "\n",
    "Moreover, we consider the full strain $\\epsilon$ to be the sum of the elastic $\\epsilon^e$ and the plastic strain contribution $p$.\n",
    "Conversely, the elastic strain is the given as \n",
    "\\begin{equation} \\epsilon^\\text{e} = \\epsilon - p .\\end{equation}\n",
    "The isotropic hardening variable will be denoted by $\\alpha$ through this tutorial. The hardening potential\n",
    "density is simply chosen as\n",
    "$\\Psi^\\text{h} = \\frac{H\\,\\alpha^2}{2}$ such that the total energy density reads\n",
    "\\begin{equation*}\n",
    "\\Psi((\\epsilon - p), \\alpha) = (\\epsilon - p) : \\mathbf{C} : (\\epsilon - p) + \\frac{H}{2} \\alpha^2.\n",
    "\\end{equation*}\n",
    "\n",
    "The problem solved in this tutorial considers plain strains. However, this does not mean that the plastic\n",
    "strains are plain and neither are the elastic ones. Only their sum has vanishing out-of-plane components.\n",
    "Therefore, for simplicity, the material model is implemented in 3d whereas displacements are in 2d.\n",
    "\n",
    "\n",
    "## Formulation with explicit yield surface\n",
    "\n",
    "Based on the principle of maximum dissipation we can abstractly formulate the dissipation potential as\n",
    "\n",
    "\\begin{align*}\n",
    "\\Phi(\\dot{p}, \\dot{\\alpha}) = \n",
    "  \\sup_{\\sigma} \\sup_{\\beta} \\inf_{\\Lambda \\geq 0} \n",
    "    \\: \\sigma : \\dot{p} + \\beta \\dot{\\alpha} - \\Lambda (\\left|\\mathrm{dev} \\sigma\\right| - \\sqrt{2/3}\\sigma_Y(1 + \\beta))\n",
    "\\end{align*}\n",
    "\n",
    "where $\\left|\\mathrm{dev} \\sigma\\right| - \\sqrt{2/3}\\sigma_Y(1 + \\beta)$ is the yield function, which represents the elastic\n",
    "limit. The stationary conditions of the above functional read as\n",
    "\n",
    "\\begin{align*} \n",
    "  &\\dot{p} = \\Lambda \\frac{\\partial \\left|\\mathrm{dev} \\sigma\\right|}{\\partial \\sigma} \\\\\n",
    "  &\\dot{\\alpha} = - \\Lambda\\,\\sqrt{2/3}\\sigma_Y \\\\\n",
    "  &\\{\\Lambda \\geq 0 \\: \\land \\: (\\left|\\mathrm{dev} \\sigma\\right| - \\sqrt{2/3}\\sigma_Y(1 + \\beta)) \\leq 0 \\: \\land \\:\n",
    "  \\Lambda(\\left|\\mathrm{dev} \\sigma\\right| - \\sqrt{2/3}\\sigma_Y(1 + \\beta)) = 0\\}\n",
    "\\end{align*}\n",
    "\n",
    "which are regarded as evolution equations for $p$ and $\\alpha$. The actual values of $\\sigma$ and $\\beta$ are\n",
    "obtained through the constitutive relations provided by the framework of generalized standard materials, we have\n",
    "\n",
    "\\begin{align*}\n",
    "&\\frac{\\partial\\Psi((\\epsilon - p), \\alpha)}{\\partial p} + \\frac{\\partial\\Phi}{\\partial \\dot{p}} = 0 \\quad \\Rightarrow \\quad \\sigma = \\mathbf{C} : (\\epsilon - p) \\\\\n",
    "&\\frac{\\partial\\Psi((\\epsilon - p), \\alpha)}{\\partial \\alpha} + \\frac{\\partial\\Phi}{\\partial \\dot{\\alpha}} = 0\n",
    "\\quad \\Rightarrow \\quad \\beta = - H \\alpha .\n",
    "\\end{align*}\n",
    "\n",
    "\n",
    "\n",
    "\n",
    "## Constrained minimization formulation\n",
    "\n",
    "\n",
    "A semi-implicit time-discrete formulation of the model including hardening reads [3]:  \n",
    "For the given state $(u^k,p^k, \\alpha^k)$ find a new solution $(u^{k+1},p^{k+1})$ such that\n",
    "\\begin{align*}\n",
    "\\text{1.} & \\: && \\int\\Psi(\\epsilon(u^{k+1}), p^{k+1},p^{k}, \\alpha^{k})+\\Phi(p^{k+1},p^k)- f^{k+1}\\cdot \n",
    "u^{k+1}\\,dx \\rightarrow \\min \\\\\n",
    "\\text{2.} & \\: && \\alpha^{k+1}=\\alpha^k+\\sqrt{2/3}\\sigma_y H \\|p^{k+1}-p^k\\| ,\n",
    "\\end{align*}\n",
    "with\n",
    "\\begin{align*}\n",
    "&\\Psi(\\epsilon(u), p, p^k, \\alpha^k) = \\frac{1}{2} \\|\\epsilon(u)-p\\|_{M}^2 \n",
    "    + \\frac{1}{2} \\left(\\alpha^k + \\sqrt{2/3}\\sigma_y H \\|p-p^k\\|_{\\varepsilon}\\right)^2 \\quad\\text{and}\\quad\n",
    "\\\\\n",
    "&\\Phi(p,p^k) = \\sqrt{2/3}\\sigma_Y \\|p-p^k\\|_{\\varepsilon},\n",
    "\\end{align*}\n",
    "\n",
    "where $\\Psi$ denotes the augmented stored energy density and $\\|\\bullet \\|_{\\varepsilon}$ indicates a perturbed norm in order to avoid divisions by zero in the evaluation of the time-discrete evolution equation derived from an incremental variational principle.\n",
    "\n",
    "The state $u$ is spatially discretized by continuous Lagrange elements, the internal states $p$ and $\\alpha$ reside at quadrature points, for which NGSolve has the notion of an integration rule space. Thus, the problem above can be decomposed into a \"global\" problem for the displacements and local problems for the internal variables. The latter can be solved individually for each quadrature point. However, there is a coupling between the local problems and\n",
    "displacements, which has to be accounted for by what is called \"algorithmically consistent linearization\".\n",
    "\n",
    "\n",
    "**References**\n",
    " 1. [W. Han and B.D. Reddy: Mathematical Theory and Numerical Analysis, Springer 1999](https://www.springer.com/gp/book/9781461459392)\n",
    " 2. [K. Hackl, F.D. Fischer, On the relation between the principle of maximum dissipation and inelastic evolution given by dissipation potentials, PRSA, 2008](https://doi.org/10.1098/rspa.2007.0086)\n",
    " 3. [C. Carstensen, Domain Decomposition for a Non-smooth Convex Minimization Problem and its Application in Plasticity, 1997](https://doi.org/10.1002/(SICI)1099-1506(199705/06)4:3<177::AID-NLA106>3.0.CO;2-B)"
   ]
  },
  {
   "cell_type": "markdown",
   "id": "b8615257",
   "metadata": {},
   "source": [
    "## Implementation\n",
    "\n",
    "\n",
    "\n",
    "### General setup"
   ]
  },
  {
   "cell_type": "code",
   "execution_count": 1,
   "id": "08f94b61",
   "metadata": {},
   "outputs": [
    {
     "name": "stderr",
     "output_type": "stream",
     "text": [
      "================================================================\n",
      "WARNING: NGSolve was compiled with Netgen \n",
      "         version v6.2.2105-106-g193a7001 but\n",
      "         version v6.2.2105-109-gfdf26641 is loaded at run-time!!!\n",
      "================================================================\n"
     ]
    }
   ],
   "source": [
    "import numpy as np\n",
    "from ngsolve import *\n",
    "from ngsolve.comp import IntegrationRuleSpace\n",
    "from ngsolve.fem import MinimizationCF, NewtonCF\n",
    "from netgen.geom2d import CSG2d, Circle, Rectangle\n",
    "from ngsolve.webgui import Draw\n",
    "SetNumThreads(4)"
   ]
  },
  {
   "cell_type": "markdown",
   "id": "180b8bc3",
   "metadata": {},
   "source": [
    "The problem domain is the classical plate with hole. Thanks to symmetry of the problem to be solve, we actually use only one quarter of the domain together with additional symmetry boundary conditions.\n",
    "Parameters for the geometry and the material employed are taken from [4].\n",
    "\n",
    "\n",
    "4. [A. Düster and E. Rank: The p-version of the fnite element method compared to an\n",
    "adaptive h-version for the deformation theory of plasticity, CMAME 190 (2001) 1925-1935](https://doi.org/10.1016/S0045-7825(00)00215-2)"
   ]
  },
  {
   "cell_type": "code",
   "execution_count": 2,
   "id": "55e0a4c8",
   "metadata": {},
   "outputs": [
    {
     "data": {
      "application/vnd.jupyter.widget-view+json": {
       "model_id": "0d5d3579f56d46c984dd7986f0ce3d25",
       "version_major": 2,
       "version_minor": 0
      },
      "text/plain": [
       "WebGuiWidget(value={'ngsolve_version': '6.2.2105-166-g44b102454', 'mesh_dim': 2, 'order2d': 2, 'order3d': 2, '…"
      ]
     },
     "metadata": {},
     "output_type": "display_data"
    }
   ],
   "source": [
    "# polynomial order for geometry and displacements\n",
    "order = 3\n",
    "\n",
    "geo = CSG2d()\n",
    "circle = Circle(center=(100,100), radius=10.0, bc=\"curve\").Maxh(1)\n",
    "rect = Rectangle(pmin=(0,100), pmax=(100,200), bottom=\"bottom\", left=\"left\", top=\"top\", right=\"right\")\n",
    "geo.Add(rect-circle)\n",
    "mesh = Mesh(geo.GenerateMesh(maxh=5))\n",
    "mesh.Curve(order)\n",
    "Draw(mesh)\n",
    "\n",
    "# points of interest for post-processing\n",
    "node_A = mesh(100,200)\n",
    "node_B = mesh(0,200)"
   ]
  },
  {
   "cell_type": "markdown",
   "id": "611a7620",
   "metadata": {},
   "source": [
    "Strain energy density and generic helper functions"
   ]
  },
  {
   "cell_type": "markdown",
   "id": "1c270db9",
   "metadata": {},
   "source": [
    "Model parameters"
   ]
  },
  {
   "cell_type": "code",
   "execution_count": 3,
   "id": "50886983",
   "metadata": {},
   "outputs": [
    {
     "name": "stdout",
     "output_type": "stream",
     "text": [
      "E = ParameterCF, val = 206900\n",
      " \n",
      "nu = ParameterCF, val = 0.29\n",
      "\n"
     ]
    }
   ],
   "source": [
    "# Shear modulus\n",
    "mu = 80193.8\n",
    "\n",
    "# Bulk modulus\n",
    "kappa = 164206\n",
    "\n",
    "# Young's modulus\n",
    "Emod = Parameter((9 * kappa * mu) / (3 * kappa + mu))\n",
    "\n",
    "# Poisson's ratio\n",
    "nu = Parameter((3 * kappa - 2 * mu)/(2 * (3 * kappa + mu)))\n",
    "\n",
    "\n",
    "print(\"E =\", Emod, \"\\nnu =\", nu)\n",
    "\n",
    "# Hardening parameter\n",
    "H = Parameter(0.0)\n",
    "\n",
    "# Yield stress\n",
    "sigma_Y = Parameter(450)"
   ]
  },
  {
   "cell_type": "code",
   "execution_count": 4,
   "id": "75288497",
   "metadata": {},
   "outputs": [],
   "source": [
    "def strain(u):\n",
    "    _strain = Sym(Grad(u))\n",
    "    return CoefficientFunction((_strain[0,0], _strain[0,1], 0,\n",
    "                                _strain[1,0], _strain[1,1], 0,\n",
    "                                0           ,            0, 0), dims=(3, 3))\n",
    "\n",
    "\n",
    "def elastic_strain_energy(eps, Emod, nu):\n",
    "    return 1/2 * Emod / ((1 + nu) * (1 - 2 * nu)) * ((1 - 2 * nu) * InnerProduct(eps, eps) + nu * Trace(eps)**2)\n",
    "\n",
    "\n",
    "def tensor_norm(a, pert=0):\n",
    "    return sqrt(InnerProduct(a, a) + pert)\n",
    "\n",
    "\n",
    "def dev(a):\n",
    "    return a - Trace(a) * Id(a.dims[0]) / a.dims[0]"
   ]
  },
  {
   "cell_type": "markdown",
   "id": "28cfaffd",
   "metadata": {},
   "source": [
    "### Common FE spaces\n",
    "\n",
    "We employ a $H^1$ space for the displacements and a \"integration rule space\" (IR space) as basis space for all internal variables."
   ]
  },
  {
   "cell_type": "code",
   "execution_count": 5,
   "id": "1ffb36ee",
   "metadata": {},
   "outputs": [],
   "source": [
    "fes_u = VectorH1(mesh, order=order, dirichletx=\"right\", dirichlety=\"bottom\")\n",
    "fes_ir = IntegrationRuleSpace(mesh, order=order-1)"
   ]
  },
  {
   "cell_type": "markdown",
   "id": "d3f00664",
   "metadata": {},
   "source": [
    "Scalar internal states can be defined based on `fes_ir` as needed.\n",
    "\n",
    "The \"measure\" corresponding to `fes_ir`:"
   ]
  },
  {
   "cell_type": "code",
   "execution_count": 6,
   "id": "16d8b758",
   "metadata": {},
   "outputs": [],
   "source": [
    "# extract integration rules from IntegrationRuleSpace\n",
    "irs_dx = dx(intrules=fes_ir.GetIntegrationRules())"
   ]
  },
  {
   "cell_type": "markdown",
   "id": "944a1682",
   "metadata": {},
   "source": [
    "### Load definitions"
   ]
  },
  {
   "cell_type": "code",
   "execution_count": 7,
   "id": "c4c57cdd",
   "metadata": {},
   "outputs": [],
   "source": [
    "force = 450\n",
    "# For loadsteps\n",
    "loadfactor = Parameter(1)"
   ]
  },
  {
   "cell_type": "markdown",
   "id": "d1bdc8a6",
   "metadata": {},
   "source": [
    "### Some data structures for postprocessing"
   ]
  },
  {
   "cell_type": "code",
   "execution_count": 8,
   "id": "03f9df6b",
   "metadata": {},
   "outputs": [
    {
     "name": "stdout",
     "output_type": "stream",
     "text": [
      "copy matrix non-symmetric\n",
      "analysis ... factor ...  done \n",
      "copy matrix non-symmetric\n",
      "analysis ... factor ...  done \n"
     ]
    }
   ],
   "source": [
    "# for postprocessing\n",
    "drawfes = MatrixValued(L2(mesh, order=order-1), dim=3, symmetric=True, deviatoric=False)\n",
    "pd, qd = drawfes.TnT()\n",
    "pdraw = GridFunction(drawfes)\n",
    "ad = BilinearForm(InnerProduct(pd, qd)*irs_dx, symmetric=True).Assemble()\n",
    "invad = ad.mat.Inverse()\n",
    "\n",
    "drawafes = L2(mesh, order=order-1)\n",
    "pda, qda = drawafes.TnT()\n",
    "adraw = GridFunction(drawafes)\n",
    "ada = BilinearForm(InnerProduct(pda, qda)*irs_dx, symmetric=True).Assemble()\n",
    "invada = ada.mat.Inverse()"
   ]
  },
  {
   "cell_type": "markdown",
   "id": "07a5bc61",
   "metadata": {},
   "source": [
    "### Implementation with explicit yield surface\n",
    "\n",
    "In this approach we employ a generic symmetric-matrix-valued space for $p$."
   ]
  },
  {
   "cell_type": "code",
   "execution_count": 31,
   "id": "1898b68b",
   "metadata": {},
   "outputs": [],
   "source": [
    "fes_p = MatrixValued(fes_ir, symmetric=True, deviatoric=False, dim=3)\n",
    "\n",
    "fes_int = fes_p * fes_ir * fes_ir # p x alpha x Lambda\n",
    "\n",
    "# We need a coupled space as well.\n",
    "fes = fes_u * fes_int\n",
    "u, p, alpha, Lambda = fes.TrialFunction()\n",
    "\n",
    "# GridFunction for full solution\n",
    "gfsol = GridFunction(fes)\n",
    "gfu = gfsol.components[0]\n",
    "\n",
    "# GridFunction for internal states only\n",
    "gfint = GridFunction(fes_int)\n",
    "gfp, gfalpha, gfLambda = gfint.components\n",
    "\n",
    "# For history states\n",
    "fes_hist = fes_p * fes_ir\n",
    "gfhist = GridFunction(fes_hist)\n",
    "gfp_k, gfalpha_k = gfhist.components\n",
    "\n",
    "# \"Trial\" states for plastic evolution (these are not trial functions in FE parlance)\n",
    "gftrial = GridFunction(fes_hist)\n",
    "gfsigma_trial, gfbeta_trial = gftrial.components\n",
    "\n",
    "# Time increment\n",
    "Delta_t = Parameter(1.0) \n",
    "# Not really needed for a rate-independent model. Value could be used for scaling the equations though.\n",
    "\n",
    "# Short-hand for storing history variables. Note that the history value of Lambda is not relevant and thus omitted.\n",
    "def store_internal():\n",
    "    gfp_k.Interpolate(gfp)\n",
    "    gfalpha_k.Interpolate(gfalpha)"
   ]
  },
  {
   "cell_type": "markdown",
   "id": "6313983c",
   "metadata": {},
   "source": [
    "Next, we setup functions for the constitutive functions $\\Psi$ and $\\Phi$"
   ]
  },
  {
   "cell_type": "code",
   "execution_count": 32,
   "id": "4e494dc2",
   "metadata": {},
   "outputs": [],
   "source": [
    "# Energy density\n",
    "def Psi(strain, p, alpha):\n",
    "    strain_energy = elastic_strain_energy(strain-p, Emod, nu)\n",
    "    hardening     = H/2 * alpha**2\n",
    "    return strain_energy + hardening\n",
    "\n",
    "# The yield condition: result > 0 ==> plastic evolution\n",
    "def yield_condition(sigma, beta, pert=0):\n",
    "    return tensor_norm(dev(sigma), pert=pert) - sqrt(2/3) * sigma_Y * (1+beta)\n",
    "\n",
    "\n",
    "# The objective function defining the dissipation potential\n",
    "def Phi_obj(sigma, beta, p_dot, alpha_dot, Lambda):\n",
    "    return InnerProduct(sigma, p_dot) + InnerProduct(beta, alpha_dot) - \\\n",
    "            Lambda * yield_condition(sigma, beta, pert=1e-16)\n",
    "\n",
    "\n",
    "# The evolution equations\n",
    "def evolution_eqs(strain, p, alpha, Lambda, evol_tol):\n",
    "    p_dot = (p - gfp_k) / Delta_t\n",
    "    alpha_dot = (alpha - gfalpha_k) / Delta_t\n",
    "    sigma = -Psi(strain, p, alpha).Diff(p)\n",
    "    beta = -Psi(strain, p, alpha).Diff(alpha)\n",
    "    _Phi_obj = Phi_obj(sigma, beta, p_dot, alpha_dot, Lambda)\n",
    "    \n",
    "    dsigma = _Phi_obj.Diff(sigma)\n",
    "    \n",
    "    # only active when there is hardening\n",
    "    dbeta = IfPos(H - 1e-16, _Phi_obj.Diff(beta), alpha_dot)\n",
    "    \n",
    "    dLambda = _Phi_obj.Diff(Lambda)\n",
    "\n",
    "    # Only solve the evolution equations if the elastic trial state is beyond the yield surface.\n",
    "    # This essentially leads to the fulfillment of Lambda >= 0\n",
    "    return IfPos(yield_condition(gfsigma_trial, gfbeta_trial) - evol_tol, \n",
    "                 CoefficientFunction((dsigma, dbeta, dLambda)),\n",
    "                 CoefficientFunction((p_dot, alpha_dot, Lambda - gfLambda)))"
   ]
  },
  {
   "cell_type": "markdown",
   "id": "2390162c",
   "metadata": {},
   "source": [
    "Setup the handling of the evolution of internal variables. \n",
    "The evolution equations are a system of nonlinear equations per quadrature point.\n",
    "`NewtonCF` solves such equations with given starting points, tolerance and maximum interations.\n",
    "On failure, it returns `NaN`."
   ]
  },
  {
   "cell_type": "code",
   "execution_count": 33,
   "id": "3cd45669",
   "metadata": {},
   "outputs": [],
   "source": [
    "# Parameters for evolution\n",
    "tol = 1e-6\n",
    "maxiter = 20\n",
    "evol_tol = Parameter(tol)\n",
    "\n",
    "eqs = evolution_eqs(strain(gfu), p, alpha, Lambda, evol_tol).Compile(realcompile=False)\n",
    "evolution = NewtonCF(eqs, gfsol.components[1:], tol=tol, maxiter=maxiter)"
   ]
  },
  {
   "cell_type": "markdown",
   "id": "39bf5f9b",
   "metadata": {},
   "source": [
    "The \"trial state\" that indicates whether there will be a plastic evolution or is computed via an exact (interpolating) projection."
   ]
  },
  {
   "cell_type": "code",
   "execution_count": 34,
   "id": "bfd52eed",
   "metadata": {},
   "outputs": [],
   "source": [
    "# We employ a BilinearForm to evaluate the weak form of the projection problem.\n",
    "# Thus, we will only call L_trial.Apply\n",
    "L_trial = BilinearForm(fes_hist, nonassemble=True)\n",
    "\n",
    "p_trial, alpha_trial = fes_hist.TrialFunction()\n",
    "p_test, alpha_test = fes_hist.TestFunction()\n",
    "\n",
    "Psi_trial = Psi(strain(gfu), p_trial, alpha_trial)\n",
    "L_trial += InnerProduct(-Psi_trial.Diff(p_trial), p_test) * irs_dx\n",
    "L_trial += InnerProduct(-Psi_trial.Diff(alpha_trial), alpha_test) * irs_dx\n",
    "\n",
    "# The mass matrix of the projection.\n",
    "M_trial = BilinearForm(fes_hist, symmetric=True, diagonal=True)\n",
    "for _trial, _test in zip(*fes_hist.TnT()):\n",
    "    M_trial += InnerProduct(_trial,  _test).Compile() * irs_dx\n",
    "\n",
    "M_trial.Assemble()\n",
    "M_trial_inv = M_trial.mat.Inverse()\n",
    "\n",
    "# RHS vector\n",
    "vec_trial = gftrial.vec.CreateVector()\n",
    "\n",
    "\n",
    "def compute_trial_state():\n",
    "    L_trial.Apply(gfhist.vec, vec_trial)\n",
    "    gftrial.vec.data = M_trial_inv * vec_trial"
   ]
  },
  {
   "cell_type": "markdown",
   "id": "1db8dd7f",
   "metadata": {},
   "source": [
    "The actual solution of the equations happens during an again exact (interpolating) projection that sets `gfint`."
   ]
  },
  {
   "cell_type": "code",
   "execution_count": 35,
   "id": "079ae5be",
   "metadata": {},
   "outputs": [],
   "source": [
    "# A Linearform for which the evluation triggers the solution of the evolution equations \n",
    "testfunc = CoefficientFunction(tuple(fes_int.TestFunction()))\n",
    "L_evol = LinearForm(fes_int)\n",
    "L_evol += InnerProduct(CacheCF(evolution), testfunc) * irs_dx\n",
    "\n",
    "# Mass-Matrix for the internal variable space as generic interpolation tool\n",
    "M_evol = BilinearForm(fes_int, symmetric=True, diagonal=True)\n",
    "for _trial, _test in zip(*fes_int.TnT()):\n",
    "    M_evol += InnerProduct(_trial,  _test).Compile() * irs_dx\n",
    "    \n",
    "M_evol.Assemble()\n",
    "M_evol_inv = M_evol.mat.Inverse()\n",
    "\n",
    "\n",
    "def evolve_internal():\n",
    "    compute_trial_state()\n",
    "    L_evol.Assemble()\n",
    "    gfint.vec.data = M_evol_inv * L_evol.vec\n",
    "    for i, comp in enumerate(gfint.components):\n",
    "        gfsol.components[i+1].vec.data = gfint.components[i].vec"
   ]
  },
  {
   "cell_type": "markdown",
   "id": "5aa1b020",
   "metadata": {},
   "source": [
    "What remains is to setup the `BilinearForm ` that describes the global boundary value problem."
   ]
  },
  {
   "cell_type": "code",
   "execution_count": 36,
   "id": "f62f6b2f",
   "metadata": {},
   "outputs": [],
   "source": [
    "testfunc = fes.TestFunction()\n",
    "u_test = testfunc[0]\n",
    "test_int = CoefficientFunction(tuple(testfunc[1:]))\n",
    "\n",
    "# Create a strain variable for partial differentiation\n",
    "strain_var = strain(u)\n",
    "\n",
    "internal_virtual_work_density = InnerProduct(Psi(strain_var, p, alpha).Diff(strain_var), strain(u_test))\n",
    "\n",
    "# This \"constraint\" ensures the consistent linearization\n",
    "evolution_constraint = InnerProduct(evolution_eqs(strain_var, p, alpha, Lambda, evol_tol), test_int)\n",
    "\n",
    "loading_potential = -u[1] * force * loadfactor * ds(\"top\")\n",
    "\n",
    "realcompile = False\n",
    "\n",
    "# Possible optimization: use static condensation for p\n",
    "a = BilinearForm(fes, symmetric=False)\n",
    "a += internal_virtual_work_density.Compile(realcompile=realcompile) * irs_dx\n",
    "a += evolution_constraint.Compile(realcompile=realcompile) * irs_dx\n",
    "a += Variation(loading_potential).Compile(realcompile=realcompile)"
   ]
  },
  {
   "cell_type": "markdown",
   "id": "5b4629bf",
   "metadata": {},
   "source": [
    "The nonlinear PDE is solved with a Newton-Raphson scheme. Thereby, in each Newton iteration\n",
    "we solve a linearized PDE for the displacements and a nonlinear evolution problem at each quadrature point via *`NewtonCF`*"
   ]
  },
  {
   "cell_type": "markdown",
   "id": "802d9044",
   "metadata": {},
   "source": [
    "In order to run the problem, we need to define vectors that store respective solution data, define loadsteps\n",
    "and setup a loop that iterates through the latter."
   ]
  },
  {
   "cell_type": "code",
   "execution_count": 37,
   "id": "0f9bb98e",
   "metadata": {},
   "outputs": [
    {
     "name": "stdout",
     "output_type": "stream",
     "text": [
      "step  0 err =  4.712440005086849\n",
      "step  1 err =  4.619559763150558e-28\n",
      "force =  45.0 , uy_A = 0.02095138207724975 , ux_B = 0.007675787852345536 , int u2 = 2.0403446338478886\n",
      "step  0 err =  18.849760020347222\n",
      "step  1 err =  2.170820958682297e-27\n",
      "force =  135.0 , uy_A = 0.06285414623174926 , ux_B = 0.023027363557036617 , int u2 = 6.121033901543667\n",
      "step  0 err =  18.849760020347176\n",
      "step  1 err =  0.01000328878227966\n",
      "step  2 err =  0.0002476679731235852\n",
      "step  3 err =  1.1193922903053385e-06\n",
      "step  4 err =  6.419347100162948e-12\n",
      "force =  225.0 , uy_A = 0.104851325952877 , ux_B = 0.03833580892005419 , int u2 = 10.206286292395475\n",
      "step  0 err =  19.008217984985475\n",
      "step  1 err =  0.09589731097280532\n",
      "step  2 err =  0.01823098667988696\n",
      "step  3 err =  0.00011655183024126681\n",
      "step  4 err =  1.802296037223546e-09\n",
      "force =  315.0 , uy_A = 0.14752882231214587 , ux_B = 0.05333156449214382 , int u2 = 14.325049349140471\n",
      "step  0 err =  4.8549925823714775\n",
      "step  1 err =  0.009685498603012155\n",
      "step  2 err =  0.0004263072508094978\n",
      "step  3 err =  6.912667443713278e-05\n",
      "step  4 err =  2.470693793145205e-10\n",
      "force =  360.0 , uy_A = 0.16933966923143356 , ux_B = 0.06061220028559317 , int u2 = 16.407920824238925\n",
      "step  0 err =  5.04763569189593\n",
      "step  1 err =  0.3163400941515894\n",
      "step  2 err =  0.020821721134447455\n",
      "step  3 err =  0.000239091863460723\n",
      "step  4 err =  6.5638384268328125e-09\n",
      "force =  405.0 , uy_A = 0.19445196430715025 , ux_B = 0.0664937927767446 , int u2 = 18.642430363419834\n",
      "step  0 err =  1.6567649489804532\n",
      "step  1 err =  0.19325326809287363\n",
      "step  2 err =  0.007842198087785269\n",
      "step  3 err =  1.5769681842607834e-05\n",
      "step  4 err =  6.401087153857341e-07\n",
      "force =  427.5 , uy_A = 0.21192152803798484 , ux_B = 0.0674452353368452 , int u2 = 20.000583746400643\n",
      "step  0 err =  2.453984986393224\n",
      "step  1 err =  0.9110398702760596\n",
      "step  2 err =  0.09568827383360025\n",
      "step  3 err =  0.0016630819401071285\n",
      "step  4 err =  1.3313284468391894e-05\n",
      "step  5 err =  7.223529299251602e-12\n",
      "force =  450.0 , uy_A = 0.24661943920919457 , ux_B = 0.06149028068886957 , int u2 = 22.416059290722064\n"
     ]
    }
   ],
   "source": [
    "# A set of functions/vectors for keeping data\n",
    "w = gfsol.vec.CreateVector()\n",
    "rhs = gfsol.vec.CreateVector()\n",
    "\n",
    "# Postprocess internal states\n",
    "fd = LinearForm(InnerProduct(gfp, qd)*irs_dx)\n",
    "fda = LinearForm(InnerProduct(gfalpha_k, qda)*irs_dx)\n",
    "\n",
    "# Load steps (chosen based on experience)\n",
    "loadsteps = [0.1,0.3,0.5,0.7,0.8,0.9,0.95,1.0]\n",
    "\n",
    "# Set solution to zero initially\n",
    "gfsol.vec[:] = 0\n",
    "gfint.vec[:] = 0\n",
    "gfhist.vec[:] = 0\n",
    "gftrial.vec[:] = 0\n",
    "\n",
    "\n",
    "# Iterate through load steps\n",
    "for ls in loadsteps:\n",
    "    loadfactor.Set(ls)\n",
    "    \n",
    "    # Update old solution at time t = t_k\n",
    "    store_internal()\n",
    "\n",
    "    with TaskManager():\n",
    "        for i in range(20):\n",
    "            \n",
    "            a.AssembleLinearization(gfsol.vec)\n",
    "            a.Apply(gfsol.vec, rhs)\n",
    "            \n",
    "            # Static condensation could be employed to speedup solving\n",
    "            w.data = a.mat.Inverse(freedofs=fes.FreeDofs(False), inverse=\"umfpack\") * rhs\n",
    "            gfsol.vec.data -= w\n",
    "            \n",
    "            # Solve the evolution equastion (quadrature-point-wise)\n",
    "            evolve_internal()\n",
    "                        \n",
    "            if np.isnan(np.max(np.abs(gfp.vec.FV().NumPy()))):\n",
    "                raise Exception(\"Evolution solver failed\")\n",
    "            \n",
    "            # NOTE: this problem is not a minimization problem. Therefore, we cannot just sum up (W * R).\n",
    "            err = np.max(np.abs(w.FV().NumPy() * rhs.FV().NumPy()))\n",
    "            print(\"step \", i, \"err = \", err)\n",
    "            \n",
    "            # Check convergence\n",
    "            if err < 1e-6: break\n",
    "        \n",
    "    print(\"force = \", ls * force, \", uy_A =\", gfu(node_A)[1], \", ux_B =\", gfu(node_B)[0],\\\n",
    "          \", int u2 =\", Integrate(gfu[1] * ds(\"top\"),mesh))"
   ]
  },
  {
   "cell_type": "code",
   "execution_count": 16,
   "id": "3ef9a9e7",
   "metadata": {},
   "outputs": [
    {
     "data": {
      "application/vnd.jupyter.widget-view+json": {
       "model_id": "7f008410f0b04b3fa88d835e6346633b",
       "version_major": 2,
       "version_minor": 0
      },
      "text/plain": [
       "WebGuiWidget(value={'ngsolve_version': '6.2.2105-166-g44b102454', 'mesh_dim': 2, 'order2d': 2, 'order3d': 2, '…"
      ]
     },
     "metadata": {},
     "output_type": "display_data"
    },
    {
     "data": {
      "application/vnd.jupyter.widget-view+json": {
       "model_id": "63c4d470aa644294b39d17167b466710",
       "version_major": 2,
       "version_minor": 0
      },
      "text/plain": [
       "WebGuiWidget(value={'ngsolve_version': '6.2.2105-166-g44b102454', 'mesh_dim': 2, 'order2d': 2, 'order3d': 2, '…"
      ]
     },
     "metadata": {},
     "output_type": "display_data"
    }
   ],
   "source": [
    "fd.Assemble()\n",
    "pdraw.vec.data = invad * fd.vec\n",
    "Draw(Norm(pdraw), mesh, \"p\")\n",
    "Draw(gfu,mesh, \"u\")\n",
    "\n",
    "if H.Get() > 1e-16:\n",
    "    fda.Assemble()\n",
    "    adraw.vec.data = invada * fda.vec\n",
    "    Draw(Norm(adraw), mesh, \"alpha\")"
   ]
  },
  {
   "cell_type": "markdown",
   "id": "be7158c8",
   "metadata": {},
   "source": [
    "### Implementation based on constrained minimization"
   ]
  },
  {
   "cell_type": "markdown",
   "id": "46bef249",
   "metadata": {},
   "source": [
    "We again start with the (coupled) function spaces. This time, we won't need a `TrialFunction` \"variable\" for $\\alpha$ but only a `GridFunction` to store its value. Also, there is no need for $\\Lambda$ in this formulation.\n",
    "\n",
    "Moreover, we use a *deviatoric* space for $p$."
   ]
  },
  {
   "cell_type": "code",
   "execution_count": 24,
   "id": "b71ee824",
   "metadata": {},
   "outputs": [],
   "source": [
    "fes_p = MatrixValued(fes_ir, symmetric=True, deviatoric=True, dim=3)\n",
    "\n",
    "fes = fes_u * fes_p\n",
    "u, p = fes.TrialFunction()\n",
    "\n",
    "# GridFunction for solution\n",
    "gfsol = GridFunction(fes)\n",
    "gfu, gfp = gfsol.components\n",
    "\n",
    "# Save previous solution\n",
    "gfsol_k = GridFunction(fes)\n",
    "gfu_k, gfp_k = gfsol_k.components\n",
    "\n",
    "# alpha_0 = 0\n",
    "alpha_k = GridFunction(fes_ir)"
   ]
  },
  {
   "cell_type": "markdown",
   "id": "e3815c4e",
   "metadata": {},
   "source": [
    "Next, we setup functions for the constitutive functions $\\Psi$ and $\\Phi$"
   ]
  },
  {
   "cell_type": "code",
   "execution_count": 25,
   "id": "9c0701cf",
   "metadata": {},
   "outputs": [],
   "source": [
    "# The full energy density (incl. hardening)\n",
    "def Psi(p, strain, p_k, alpha_k):\n",
    "    strain_energy = elastic_strain_energy(strain-p, Emod, nu)\n",
    "    alpha = alpha_k + IfPos(H - 1e-16, sqrt(2/3) * sigma_Y * H * tensor_norm(p - p_k, pert=1e-16), 0)\n",
    "    hardening    = 0.5 * alpha**2\n",
    "    return strain_energy + hardening\n",
    "\n",
    "\n",
    "# Dissipation potential: For rate-independent plasticity (homogeneous of degree 1 in the rate of p) \n",
    "# this is the dissipation! Also, because of rate independence, the parameter Delta_t is not needed for\n",
    "# the evolution.\n",
    "def Phi(p, p_k):\n",
    "    return sqrt(2/3) * sigma_Y * tensor_norm(p - p_k, pert=1e-16)"
   ]
  },
  {
   "cell_type": "markdown",
   "id": "2f8c9162",
   "metadata": {},
   "source": [
    "and loads."
   ]
  },
  {
   "cell_type": "code",
   "execution_count": 26,
   "id": "0afd9ec5",
   "metadata": {},
   "outputs": [],
   "source": [
    "force = 450\n",
    "# For loadsteps\n",
    "loadfactor = Parameter(1)"
   ]
  },
  {
   "cell_type": "markdown",
   "id": "02ba3f9a",
   "metadata": {},
   "source": [
    "Finally, we have all ingredients for the variational formulation: \n",
    "\n",
    "Find for given  $(u^k,p^k)$ a solution $(u^{k+1},p^{k+1})$ such that\n",
    "\\begin{align*}\n",
    "\\Psi(\\epsilon(u^{k+1}), p^{k+1},p^{k}) + \\Phi(p^{k+1},p^k)-\\int f^{k+1}\\cdot u^{k+1}\\,dx \\rightarrow \\min!\n",
    "\\end{align*}"
   ]
  },
  {
   "cell_type": "code",
   "execution_count": 27,
   "id": "6e857bf4",
   "metadata": {},
   "outputs": [],
   "source": [
    "realcompile = False\n",
    "\n",
    "# Possible optimization: use static condensation for p\n",
    "a = BilinearForm(fes, symmetric=True)\n",
    "a += Variation( Psi(p, strain(u), gfp_k, alpha_k) * irs_dx ).Compile(realcompile=realcompile)\n",
    "a += Variation( Phi(p, gfp_k) * irs_dx ).Compile(realcompile=realcompile)\n",
    "a += Variation( -u[1] * force * loadfactor * ds(\"top\") ).Compile(realcompile=realcompile)"
   ]
  },
  {
   "cell_type": "markdown",
   "id": "363b35ad",
   "metadata": {},
   "source": [
    "Since Phi(p, gfp_k) is included above, we automatically obtain an \"algorithmically\n",
    "consistent linearization\", correspondig to the local evolution"
   ]
  },
  {
   "cell_type": "code",
   "execution_count": 28,
   "id": "eada234b",
   "metadata": {},
   "outputs": [],
   "source": [
    "evolution_objective = (Psi(p, strain(gfu), gfp_k, alpha_k) + Phi(p,gfp_k)).Compile(realcompile=False)"
   ]
  },
  {
   "cell_type": "markdown",
   "id": "15abe2a5",
   "metadata": {},
   "source": [
    "which will be used to solve for `p` in a nested way, ie. for each \"guess\" for `u^{k+1}`."
   ]
  },
  {
   "cell_type": "markdown",
   "id": "277e0107",
   "metadata": {},
   "source": [
    "In order to run the problem, we need to define vectors that store respective solution data, define loadsteps\n",
    "and setup a loop that iterates through the latter.\n",
    "\n",
    "The nonlinear PDE is solved with a Newton-Raphson scheme. Thereby, in each Newton iteration\n",
    "we solve a linearized PDE for the displacements and a nonlinear evolution problem at each quadrature point via *`MinimizationCF`*"
   ]
  },
  {
   "cell_type": "code",
   "execution_count": 29,
   "id": "5c420c41",
   "metadata": {},
   "outputs": [
    {
     "name": "stdout",
     "output_type": "stream",
     "text": [
      "step  0 err =  9.582056531229128\n",
      "step  1 err =  1.5804537704028693e-07\n",
      "force =  45.0 , uy_A = 0.02095145057839222 , ux_B = 0.0076758441901946875 , int u2 = 2.040351303417508\n",
      "step  0 err =  19.16415204732251\n",
      "step  1 err =  4.708689078806996e-06\n",
      "step  2 err =  4.5321390892102046e-14\n",
      "force =  135.0 , uy_A = 0.06285442828122843 , ux_B = 0.02302759389233432 , int u2 = 6.121061316720655\n",
      "step  0 err =  19.164276798329507\n",
      "step  1 err =  0.27116624891024516\n",
      "step  2 err =  0.20456884504561498\n",
      "step  3 err =  0.034857108899315745\n",
      "step  4 err =  0.0018936520391443347\n",
      "step  5 err =  5.30907732855183e-06\n",
      "step  6 err =  9.478386212936393e-10\n",
      "force =  225.0 , uy_A = 0.10485199657324681 , ux_B = 0.038336348083835 , int u2 = 10.206351231029608\n",
      "step  0 err =  19.164463924465192\n",
      "step  1 err =  1.2673258919778039\n",
      "step  2 err =  1.2246329072369564\n",
      "step  3 err =  1.1419184791134105\n",
      "step  4 err =  1.0857854533660192\n",
      "step  5 err =  0.9596150005232947\n",
      "step  6 err =  0.7461571356356095\n",
      "step  7 err =  0.4037736732705366\n",
      "step  8 err =  0.04195714766891127\n",
      "step  9 err =  0.0007547314290008774\n",
      "step  10 err =  3.2883620222667646e-07\n",
      "force =  315.0 , uy_A = 0.1475301372892944 , ux_B = 0.05333258640702492 , int u2 = 14.325175633317922\n",
      "step  0 err =  9.583039327415898\n",
      "step  1 err =  1.0643702855704351\n",
      "step  2 err =  1.0290515523581756\n",
      "step  3 err =  0.9648783496153913\n",
      "step  4 err =  0.9168533245787189\n",
      "step  5 err =  0.8089956176225658\n",
      "step  6 err =  0.7191902045025916\n",
      "step  7 err =  0.38476387992155847\n",
      "step  8 err =  0.1983158094273386\n",
      "step  9 err =  0.007252838174661941\n",
      "step  10 err =  7.671791614573388e-05\n",
      "step  11 err =  5.859425851814501e-07\n",
      "force =  360.0 , uy_A = 0.16934190227524695 , ux_B = 0.060613792124141336 , int u2 = 16.408129897461013\n",
      "step  0 err =  9.5833050767773\n",
      "step  1 err =  2.1105278050550833\n",
      "step  2 err =  1.996429482881825\n",
      "step  3 err =  1.887178001259647\n",
      "step  4 err =  1.690561203417178\n",
      "step  5 err =  1.32389733663563\n",
      "step  6 err =  1.0336350209053276\n",
      "step  7 err =  0.5549822568588939\n",
      "step  8 err =  0.42403354973165625\n",
      "step  9 err =  0.031097278268794652\n",
      "step  10 err =  0.00013504159269616718\n",
      "step  11 err =  3.84293704035656e-08\n",
      "force =  405.0 , uy_A = 0.19445535355585308 , ux_B = 0.06649614689326103 , int u2 = 18.642748451103714\n",
      "step  0 err =  4.793839528079399\n",
      "step  1 err =  2.1524865881994284\n",
      "step  2 err =  1.9262633691434101\n",
      "step  3 err =  1.5262458355054351\n",
      "step  4 err =  1.2038313295067116\n",
      "step  5 err =  0.671514775128188\n",
      "step  6 err =  0.0847263166043263\n",
      "step  7 err =  0.013220737123853986\n",
      "step  8 err =  6.887603151933613e-05\n",
      "step  9 err =  1.7476385621697034e-07\n",
      "force =  427.5 , uy_A = 0.21192646252339084 , ux_B = 0.0674484017068467 , int u2 = 20.001042799052723\n",
      "step  0 err =  4.794146690134389\n",
      "step  1 err =  3.9618673142872227\n",
      "step  2 err =  3.6486237774025336\n",
      "step  3 err =  3.521662218266991\n",
      "step  4 err =  2.9146588361090204\n",
      "step  5 err =  2.375192493465969\n",
      "step  6 err =  0.6784849519630571\n",
      "step  7 err =  0.3624069224697567\n",
      "step  8 err =  0.036639222572020715\n",
      "step  9 err =  0.0002728406439104099\n",
      "step  10 err =  1.2047731534542638e-05\n",
      "step  11 err =  6.152834193488889e-08\n",
      "force =  450.0 , uy_A = 0.24662648648357954 , ux_B = 0.061494369472286016 , int u2 = 22.416712487351884\n"
     ]
    }
   ],
   "source": [
    "# a set of vectors for keeping data\n",
    "vec_k = gfsol.vec.CreateVector()\n",
    "w      = gfsol.vec.CreateVector()\n",
    "rhs    = gfsol.vec.CreateVector()\n",
    "\n",
    "# postprocess internal states\n",
    "fd = LinearForm(InnerProduct(gfp, qd)*irs_dx)\n",
    "fda = LinearForm(InnerProduct(gfalpha_k, qda)*irs_dx)\n",
    "\n",
    "# load steps (chosen based on experience)\n",
    "loadsteps = [0.1,0.3,0.5,0.7,0.8,0.9,0.95,1.0]\n",
    "\n",
    "# set solution to zero initially\n",
    "gfsol.vec[:] = 0\n",
    "alpha_k.vec[:] = 0\n",
    "\n",
    "# evolution params (default values of MinimizationCF at the time of writing)\n",
    "tol = 1e-6\n",
    "maxiter = 20\n",
    "\n",
    "# iterate through load steps\n",
    "for ls in loadsteps:\n",
    "    loadfactor.Set(ls)\n",
    "    \n",
    "    # update old solution at time t = t_k\n",
    "    gfsol_k.vec.data = gfsol.vec\n",
    "    with TaskManager():\n",
    "        for i in range(20):\n",
    "            energy_k = a.Energy(gfsol.vec)\n",
    "            #print (\"energy(t_k) = \", energy_k)\n",
    "            \n",
    "            a.AssembleLinearization(gfsol.vec)\n",
    "            a.Apply(gfsol.vec, rhs)\n",
    "            \n",
    "            # static condensation could be employed to speedup solving\n",
    "            w.data = a.mat.Inverse(freedofs=fes.FreeDofs(False), inverse=\"sparsecholesky\") * rhs\n",
    "\n",
    "            # linesearch ( with damping)\n",
    "            vec_k.data = gfsol.vec\n",
    "            scale = 1\n",
    "            while scale > 1e-7:\n",
    "                gfsol.vec.data -= scale * w\n",
    "                energy1 = a.Energy(gfsol.vec)\n",
    "                \n",
    "                # Here we solve the evolution equation as each quadrature point through evaluation of \n",
    "                # the MinimizationCF. This function takes the \"objective\", the initial guess (most \n",
    "                # likely the previous solution), tolerances and the maximum number of iterations.\n",
    "                gfp.Interpolate(MinimizationCF(evolution_objective, gfp, tol=tol, maxiter=maxiter))\n",
    "                \n",
    "                energy2 = a.Energy(gfsol.vec)\n",
    "                \n",
    "                if energy2 < energy_k + 1e-12: \n",
    "                    break\n",
    "                scale *= 0.5\n",
    "                gfsol.vec.data = vec_k\n",
    "                \n",
    "            err = sqrt(InnerProduct(w, rhs))\n",
    "            print(\"step \", i, \"err = \", err)\n",
    "            \n",
    "            # check convergence\n",
    "            if err < 1e-6: break\n",
    "    \n",
    "    alpha_k.Interpolate(alpha_k + sqrt(2/3) * sigma_Y * H * sqrt(InnerProduct(gfp - gfp_k, gfp - gfp_k)))\n",
    "    \n",
    "    print(\"force = \", ls * force, \", uy_A =\", gfu(node_A)[1], \", ux_B =\", gfu(node_B)[0],\\\n",
    "          \", int u2 =\", Integrate(gfu[1] * ds(\"top\"),mesh))"
   ]
  },
  {
   "cell_type": "code",
   "execution_count": 30,
   "id": "d0d75adb",
   "metadata": {},
   "outputs": [
    {
     "data": {
      "application/vnd.jupyter.widget-view+json": {
       "model_id": "fe6005199eb24d6497e35be7cd37b613",
       "version_major": 2,
       "version_minor": 0
      },
      "text/plain": [
       "WebGuiWidget(value={'ngsolve_version': '6.2.2105-166-g44b102454', 'mesh_dim': 2, 'order2d': 2, 'order3d': 2, '…"
      ]
     },
     "metadata": {},
     "output_type": "display_data"
    },
    {
     "data": {
      "application/vnd.jupyter.widget-view+json": {
       "model_id": "519c70d97e3d437683e9725e9e7570cf",
       "version_major": 2,
       "version_minor": 0
      },
      "text/plain": [
       "WebGuiWidget(value={'ngsolve_version': '6.2.2105-166-g44b102454', 'mesh_dim': 2, 'order2d': 2, 'order3d': 2, '…"
      ]
     },
     "metadata": {},
     "output_type": "display_data"
    }
   ],
   "source": [
    "fd.Assemble()\n",
    "pdraw.vec.data = invad * fd.vec\n",
    "Draw(Norm(pdraw), mesh, \"p\")\n",
    "Draw(gfu,mesh, \"u\")\n",
    "\n",
    "if H.Get() > 1e-16:\n",
    "    fda.Assemble()\n",
    "    adraw.vec.data = invada * fda.vec\n",
    "    Draw(Norm(adraw), mesh, \"alpha\")"
   ]
  },
  {
   "cell_type": "markdown",
   "id": "c4fa6878",
   "metadata": {},
   "source": [
    "Reference values for perfect plasticity ($H=0$) [5]: (uy_A) u4y=0.24690, (ux_B) ux5 = 6.1389e-2, int u2 = 22.454\n",
    "\n",
    "5. [R. Rannacher, F.-T. Suttmeier: A posteriori error estimation and mesh adaptation for finite element\n",
    "models in elasto-plasticity, CMAME 176 (1999) 333-361](https://doi.org/10.1016/S0045-7825(98)00344-2)"
   ]
  }
 ],
 "metadata": {
  "kernelspec": {
   "display_name": "Python 3 (ipykernel)",
   "language": "python",
   "name": "python3"
  },
  "language_info": {
   "codemirror_mode": {
    "name": "ipython",
    "version": 3
   },
   "file_extension": ".py",
   "mimetype": "text/x-python",
   "name": "python",
   "nbconvert_exporter": "python",
   "pygments_lexer": "ipython3",
   "version": "3.10.0"
  },
  "toc": {
   "base_numbering": 1,
   "nav_menu": {},
   "number_sections": true,
   "sideBar": true,
   "skip_h1_title": false,
   "title_cell": "Table of Contents",
   "title_sidebar": "Contents",
   "toc_cell": false,
   "toc_position": {
    "height": "calc(100% - 180px)",
    "left": "10px",
    "top": "150px",
    "width": "384px"
   },
   "toc_section_display": true,
   "toc_window_display": true
  }
 },
 "nbformat": 4,
 "nbformat_minor": 5
}
