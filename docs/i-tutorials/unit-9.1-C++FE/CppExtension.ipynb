{
 "cells": [
  {
   "cell_type": "markdown",
   "id": "5dc5bf2d",
   "metadata": {},
   "source": [
    "# Implementation of Finite Elements\n",
    "\n",
    "This tutorial shows how to implement our own finite elements in C++,\n",
    "and how to use them within the NGSolve language. We implement first order and second order triangular finite elements.\n",
    "\n",
    "* Finite elements implement the basis functions:\n",
    "[myElement.hpp](http://localhost:8888/edit/myElement.hpp) \n",
    "[myElement.cpp](http://localhost:8888/edit/myElement.cpp)\n",
    "\n",
    "* Differential operators define the mapping from coefficients to function values:\n",
    "[myDiffOp.hpp](http://localhost:8888/edit/myDiffOp.hpp) \n",
    "\n",
    "* Finite element spaces implement the enumeration of degrees of freedom, and creation of elements:\n",
    "[myFESpace.hpp](http://localhost:8888/edit/myFESpace.hpp) \n",
    "[myFESpace.cpp](http://localhost:8888/edit/myFESpace.cpp)"
   ]
  },
  {
   "cell_type": "markdown",
   "id": "ca10cf34",
   "metadata": {},
   "source": [
    "We combine all cpp files to one string"
   ]
  },
  {
   "cell_type": "code",
   "execution_count": null,
   "id": "982a4ee0",
   "metadata": {},
   "outputs": [],
   "source": [
    "from pathlib import Path\n",
    "txt = Path('myElement.cpp').read_text() + \\\n",
    "    Path('myFESpace.cpp').read_text() + \\\n",
    "    Path('mymodule.cpp').read_text() \n",
    "# print (txt)"
   ]
  },
  {
   "cell_type": "markdown",
   "id": "e8e9f2db",
   "metadata": {},
   "source": [
    "and let NGSolve call the compiler, and load the new library as a Python module:"
   ]
  },
  {
   "cell_type": "code",
   "execution_count": null,
   "id": "0c39ccb4",
   "metadata": {},
   "outputs": [],
   "source": [
    "from ngsolve.fem import CompilePythonModule\n",
    "m = CompilePythonModule(txt, init_function_name='mymodule', add_header=False)"
   ]
  },
  {
   "cell_type": "code",
   "execution_count": null,
   "id": "fb29e374",
   "metadata": {},
   "outputs": [],
   "source": [
    "from netgen.occ import unit_square\n",
    "from ngsolve import *\n",
    "mesh = Mesh(unit_square.GenerateMesh(maxh=0.2))"
   ]
  },
  {
   "cell_type": "markdown",
   "id": "74066dcd",
   "metadata": {},
   "source": [
    "We can now create an instance of our own finite element space"
   ]
  },
  {
   "cell_type": "code",
   "execution_count": null,
   "id": "122e9720",
   "metadata": {},
   "outputs": [],
   "source": [
    "fes = m.MyFESpace(mesh, secondorder=True, dirichlet=\".*\")"
   ]
  },
  {
   "cell_type": "markdown",
   "id": "23837763",
   "metadata": {},
   "source": [
    "and use it within NGSolve such as the builtin finite element spaces:"
   ]
  },
  {
   "cell_type": "code",
   "execution_count": null,
   "id": "627a9cfb",
   "metadata": {},
   "outputs": [],
   "source": [
    "print (\"ndof = \", fes.ndof)"
   ]
  },
  {
   "cell_type": "code",
   "execution_count": null,
   "id": "ae0deee7",
   "metadata": {},
   "outputs": [],
   "source": [
    "gfu = GridFunction(fes)\n",
    "gfu.Set(x*y)\n",
    "from ngsolve.webgui import Draw\n",
    "Draw (gfu)\n",
    "Draw (grad(gfu)[0], mesh);"
   ]
  },
  {
   "cell_type": "markdown",
   "id": "b93211e8",
   "metadata": {},
   "source": [
    "and solve the standard problem:"
   ]
  },
  {
   "cell_type": "code",
   "execution_count": null,
   "id": "5402e517",
   "metadata": {},
   "outputs": [],
   "source": [
    "u,v = fes.TnT()\n",
    "a = BilinearForm(grad(u)*grad(v)*dx).Assemble()\n",
    "f = LinearForm(1*v*dx).Assemble()\n",
    "gfu.vec.data = a.mat.Inverse(fes.FreeDofs())*f.vec\n",
    "Draw (gfu);"
   ]
  },
  {
   "cell_type": "code",
   "execution_count": null,
   "id": "a63849eb",
   "metadata": {},
   "outputs": [],
   "source": []
  }
 ],
 "metadata": {
  "kernelspec": {
   "display_name": "Python 3 (ipykernel)",
   "language": "python",
   "name": "python3"
  },
  "language_info": {
   "codemirror_mode": {
    "name": "ipython",
    "version": 3
   },
   "file_extension": ".py",
   "mimetype": "text/x-python",
   "name": "python",
   "nbconvert_exporter": "python",
   "pygments_lexer": "ipython3",
   "version": "3.10.0"
  }
 },
 "nbformat": 4,
 "nbformat_minor": 5
}
