{
 "cells": [
  {
   "attachments": {},
   "cell_type": "markdown",
   "metadata": {
    "slideshow": {
     "slide_type": "slide"
    }
   },
   "source": [
    "# 8.6 Integration over domains described by multiple level sets\n",
    "\n",
    "The `ngsxfem` add-on library has the ability to integrate over domains which are defined by muliple level set functions.\n",
    "\n",
    "We recall that previously, our domain of interest was described by a single level set function, i.e., for a continuous level set function $\\phi$, we considered the domain $\\Omega_{-} := \\{x : \\phi(x) < 0 \\}$.\n",
    "\n",
    "Now, let us consider the set $\\{\\phi_i \\}$ of level set functions. With this we define the domain of interest by the intersection $\\Omega := \\bigcap_i \\{\\phi_i < 0\\}$."
   ]
  },
  {
   "cell_type": "markdown",
   "metadata": {
    "slideshow": {
     "slide_type": "subslide"
    }
   },
   "source": [
    "The libraries are imported as usual:"
   ]
  },
  {
   "cell_type": "code",
   "execution_count": null,
   "metadata": {
    "slideshow": {
     "slide_type": "-"
    }
   },
   "outputs": [],
   "source": [
    "# Import geometry features, NGSolve and xfem\n",
    "from netgen.geom2d import SplineGeometry\n",
    "from ngsolve import *\n",
    "from xfem import *\n",
    "\n",
    "# Visualisation\n",
    "from ngsolve.webgui import *\n",
    "DrawDC = MakeDiscontinuousDraw(Draw)"
   ]
  },
  {
   "cell_type": "markdown",
   "metadata": {
    "slideshow": {
     "slide_type": "fragment"
    }
   },
   "source": [
    "We generate a background mesh"
   ]
  },
  {
   "cell_type": "code",
   "execution_count": null,
   "metadata": {},
   "outputs": [],
   "source": [
    "geo = SplineGeometry()\n",
    "geo.AddRectangle([-1, -0.5], [1, 1.5], bc=1)\n",
    "mesh = Mesh (geo.GenerateMesh(maxh=0.3, quad_dominated=False))\n",
    "Draw(mesh, 0, 0)"
   ]
  },
  {
   "cell_type": "markdown",
   "metadata": {
    "slideshow": {
     "slide_type": "slide"
    }
   },
   "source": [
    "As an example, we shall consider an isosceles triangle, described by the level set functions $\\phi_1 = y - 1$, $\\phi_2 = 2x - y$ and $\\phi_3 = -2x - y$. \n",
    "\n",
    "As in the single level set setting, `ngsxfem` can only handle piecewise linear level set functions. We thefore interpolate each smooth level set into an P1 GridFunction $\\phi^\\ast_i \\in \\mathcal{P}^1(T), T \\subset \\Omega$. In order to use these more easily later on, we store them in a `tuple.`"
   ]
  },
  {
   "cell_type": "code",
   "execution_count": null,
   "metadata": {
    "scrolled": false
   },
   "outputs": [],
   "source": [
    "level_sets = (y-1, 2*x-y, -2*x-y)\n",
    "nr_ls = len(level_sets)\n",
    "level_sets_p1 = tuple(GridFunction(H1(mesh, order=1)) for i in range(nr_ls))\n",
    "\n",
    "for i, lset_p1 in enumerate(level_sets_p1):\n",
    "    InterpolateToP1(level_sets[i], lset_p1)\n",
    "    DrawDC(lset_p1, -3.5, 2.5, mesh, \"lset_p1_{}\".format(i))"
   ]
  },
  {
   "cell_type": "markdown",
   "metadata": {},
   "source": [
    "The domain described where all three level-sets are negavive is then"
   ]
  },
  {
   "cell_type": "code",
   "execution_count": null,
   "metadata": {},
   "outputs": [],
   "source": [
    "Draw(CoefficientFunction((level_sets_p1[0], level_sets_p1[1], level_sets_p1[2], 0)),\n",
    "     mesh, \"NEG-NEG-NEG\", min=-1, max=1,\n",
    "     eval_function=\"value.x<0.0?(value.y<0.0?(value.z<0.0?1.0:-1.0):-1.0):-1.0\")"
   ]
  },
  {
   "cell_type": "markdown",
   "metadata": {
    "slideshow": {
     "slide_type": "subslide"
    }
   },
   "source": [
    "To integrate, we still use the function `Integrate`. In the multiple level set context, the input to the `dCut(levelset, domain_type, order)` is very similar to the single level set setting. Here, \n",
    "* the `levelset` argument  must be a `tuple` of the P1-GridFunction level set functions and \n",
    "* the `domain_type` can be a \n",
    "  * `tuple({NEG, POS, IF})` of the same length as the levelset tuple which describes the domain whith respect each level set function\n",
    "  * `list(tuple)` of such tuples when the domain is described via (the union of) multiple regions\n",
    "  * `DomainTypeArray` (see `xfem.mlset` convininece layer below).\n",
    "* the remaining (keyword) arguments remain as in the single level set case"
   ]
  },
  {
   "cell_type": "code",
   "execution_count": null,
   "metadata": {},
   "outputs": [],
   "source": [
    "area = Integrate(CoefficientFunction(1) * dCut(level_sets_p1, (NEG, NEG, NEG), order=0), mesh=mesh)\n",
    "error = abs(area - 0.5)\n",
    "print(\"Result of the integration: {}\".format(area))\n",
    "print(\"Error of the integration: {:5.3e}\".format(error))"
   ]
  },
  {
   "cell_type": "markdown",
   "metadata": {
    "slideshow": {
     "slide_type": "fragment"
    }
   },
   "source": [
    "Since the smooth level set functions are linear, the integration is exact up to mashine precision."
   ]
  },
  {
   "cell_type": "markdown",
   "metadata": {
    "slideshow": {
     "slide_type": "slide"
    }
   },
   "source": [
    "### Integrating over regions of  co-dimension > 0\n",
    "\n",
    "We can also integrate over subdomains of higher codimensions. For example, the lenghths of the sides of the triangle can be computed as follows:"
   ]
  },
  {
   "cell_type": "code",
   "execution_count": null,
   "metadata": {},
   "outputs": [],
   "source": [
    "len_top = Integrate(CoefficientFunction(1) * dCut(level_sets_p1, (IF, NEG, NEG), order=0), mesh)\n",
    "print(\"Top side-length of the triangle\");\n",
    "print(\"Result of the integration: {}\".format(len_top))\n",
    "print(\"Error of the integration: {:5.3e}\".format(abs(len_top - 1)))\n",
    "\n",
    "len_right = Integrate(CoefficientFunction(1) * dCut(level_sets_p1, (NEG, IF, NEG), order=0), mesh)\n",
    "print(\"\\nRight side-length of the triangle\")\n",
    "print(\"Result of the integration: {}\".format(len_right))\n",
    "print(\"Error of the integration: {:5.3e}\".format(abs(len_right - sqrt(5)/2)))\n",
    "\n",
    "len_left = Integrate(CoefficientFunction(1) * dCut(level_sets_p1, (NEG, NEG, IF), order=0), mesh)\n",
    "print(\"\\nLeft side-length of the triangle\")\n",
    "print(\"Result of the integration: {}\".format(len_left))\n",
    "print(\"Error of the integration: {:5.3e}\".format(abs(len_left - sqrt(5)/2)))"
   ]
  },
  {
   "cell_type": "markdown",
   "metadata": {
    "slideshow": {
     "slide_type": "subslide"
    }
   },
   "source": [
    "To compute the perimeter of the triangle, we can pass a list containing the tuples describing each side to `Integrate` via the `domain_type` entry in the `levelset_domain` dictionary: "
   ]
  },
  {
   "cell_type": "code",
   "execution_count": null,
   "metadata": {},
   "outputs": [],
   "source": [
    "domain_list = [(IF, NEG, NEG), (NEG, IF, NEG), (NEG, NEG, IF)]\n",
    "len_together =  Integrate(CoefficientFunction(1) * dCut(level_sets_p1, domain_list, order=0), mesh)\n",
    "\n",
    "\n",
    "print(\"Perimeter of the triangle\")\n",
    "print(\"Result of the integration: {}\".format(len_together))\n",
    "print(\"Error of the integration: {:5.3e}\".format(abs(len_together - 1 - sqrt(5))))"
   ]
  },
  {
   "cell_type": "markdown",
   "metadata": {
    "slideshow": {
     "slide_type": "subslide"
    }
   },
   "source": [
    "Similarly, we can also perform point evaluations at (codim 2) intersections of level sets:"
   ]
  },
  {
   "cell_type": "code",
   "execution_count": null,
   "metadata": {},
   "outputs": [],
   "source": [
    "point_val = Integrate((x**2 + y**2) * dCut(level_sets_p1, (IF, IF, NEG), order=0), mesh)\n",
    "\n",
    "print(\"Result of the integration: {}\".format(point_val))\n",
    "print(\"Error of the integration: {:5.3e}\".format(abs(point_val - 1.25)))"
   ]
  },
  {
   "attachments": {},
   "cell_type": "markdown",
   "metadata": {
    "slideshow": {
     "slide_type": "slide"
    }
   },
   "source": [
    "## Convenience Layer: `xfem.mlset`\n",
    "\n",
    "In order to work with more complex domains, described by multiple level sets, we provide a convenience layer in the module `xfem.mlset`. At its core, this module provides a container class `DomainTypeArray` which allows us to perform operations and manipulate domain regions. A full description of this can be cound in the docstring:"
   ]
  },
  {
   "cell_type": "code",
   "execution_count": null,
   "metadata": {},
   "outputs": [],
   "source": [
    "from xfem.mlset import *\n",
    "\n",
    "DomainTypeArray?"
   ]
  },
  {
   "cell_type": "markdown",
   "metadata": {
    "slideshow": {
     "slide_type": "slide"
    }
   },
   "source": [
    "## Working with `DomainTypeArray`s\n",
    "A `DomainTypeArray` is initialised either with a `tuple({NEG,POS,IF,ANY})` or with a list of such tuples. While integration does not work with `COMBINED_DOMAIN_TYPES`, the `DomainTypeArray` class accepts `ANY` as an entry, and expands this internaly to a list of tuples containing only `{IF, POS, NEG}`, such that the result can then be used for integration."
   ]
  },
  {
   "cell_type": "code",
   "execution_count": null,
   "metadata": {
    "slideshow": {
     "slide_type": "-"
    }
   },
   "outputs": [],
   "source": [
    "domain = DomainTypeArray((ANY, NEG, POS))"
   ]
  },
  {
   "cell_type": "markdown",
   "metadata": {
    "slideshow": {
     "slide_type": "fragment"
    }
   },
   "source": [
    "The list of regions contained in this can then be acessed via the `as_list` attribute"
   ]
  },
  {
   "cell_type": "code",
   "execution_count": null,
   "metadata": {},
   "outputs": [],
   "source": [
    "domain.as_list"
   ]
  },
  {
   "cell_type": "markdown",
   "metadata": {
    "slideshow": {
     "slide_type": "fragment"
    }
   },
   "source": [
    "and the codimension of the resulting domain can be accesed via the `codim` attribute"
   ]
  },
  {
   "cell_type": "code",
   "execution_count": null,
   "metadata": {},
   "outputs": [],
   "source": [
    "domain.codim"
   ]
  },
  {
   "cell_type": "markdown",
   "metadata": {
    "slideshow": {
     "slide_type": "slide"
    }
   },
   "source": [
    "### Geometrical features\n",
    "\n",
    "The main feature of the `DomainTypeArray` class is that we can treat it as a geometrical set and thus can perform logical operations with them. Available operators are:\n",
    "\n",
    "Operator | Operation | Remark\n",
    ":-- |:-- | :--\n",
    "`~` | Returns a `DomainTypeArray` describing the region **NOT** part of the original region. | The result keeps the codimension.\n",
    "` \\| ` | Returns a `DomainTypeArray` describing the region defined by the **UNION** of two regions. | Only possible for domains of the same codimension.\n",
    "`&` | Returns a `DomainTypeArray` describing the region defined by the **INTERSECTION** of two regions. | Intersections can increase the codimension.\n",
    "\n",
    "\n",
    "Note: \n",
    " - For `|` and `&`, the tuples in each `DomainTypeArray` must have the same length.\n",
    " - The operators `&=` and `|=` are also available."
   ]
  },
  {
   "cell_type": "code",
   "execution_count": null,
   "metadata": {
    "slideshow": {
     "slide_type": "subslide"
    }
   },
   "outputs": [],
   "source": [
    "triangle = DomainTypeArray((NEG,NEG,NEG))\n",
    "outside_triangle = ~triangle\n",
    "outside_triangle.as_list"
   ]
  },
  {
   "cell_type": "code",
   "execution_count": null,
   "metadata": {
    "slideshow": {
     "slide_type": "fragment"
    }
   },
   "outputs": [],
   "source": [
    "dta1 = DomainTypeArray((POS, NEG)) | DomainTypeArray([(POS,POS),(NEG,POS)])\n",
    "dta1.as_list"
   ]
  },
  {
   "cell_type": "code",
   "execution_count": null,
   "metadata": {
    "slideshow": {
     "slide_type": "subslide"
    }
   },
   "outputs": [],
   "source": [
    "dta2 = outside_triangle & DomainTypeArray([(POS, NEG, POS), (POS, POS, POS)])\n",
    "dta2.as_list"
   ]
  },
  {
   "cell_type": "code",
   "execution_count": null,
   "metadata": {
    "slideshow": {
     "slide_type": "fragment"
    }
   },
   "outputs": [],
   "source": [
    "dta3 = DomainTypeArray((NEG, IF, POS)) & DomainTypeArray((NEG, POS, IF))\n",
    "dta3.as_list"
   ]
  },
  {
   "cell_type": "markdown",
   "metadata": {
    "slideshow": {
     "slide_type": "slide"
    }
   },
   "source": [
    "#### Generating the boundary\n",
    "\n",
    "In order to obtain the boundary of the region described by a `DomainTypeArray` we can use the class `.Boundary()` method:"
   ]
  },
  {
   "cell_type": "code",
   "execution_count": null,
   "metadata": {},
   "outputs": [],
   "source": [
    "boundary = triangle.Boundary()\n",
    "boundary.as_list"
   ]
  },
  {
   "cell_type": "markdown",
   "metadata": {
    "slideshow": {
     "slide_type": "fragment"
    }
   },
   "source": [
    "Since each section in a `DomainTypeArray` is considered as a separate domain, we can even go one step further and construct the corners:"
   ]
  },
  {
   "cell_type": "code",
   "execution_count": null,
   "metadata": {},
   "outputs": [],
   "source": [
    "corners = boundary.Boundary()\n",
    "corners.as_list"
   ]
  },
  {
   "cell_type": "markdown",
   "metadata": {
    "slideshow": {
     "slide_type": "slide"
    }
   },
   "source": [
    "### Visualisation Tools\n",
    "\n",
    "To help visualise the regions descibed by a DomainTypeArray for debugging purposes, we can use the `.Indicator(lsets)` method for domains of codim=0 and the `IndicatorSmoothed(lsets, eps=0.03)` method for domains of codim>0. \n",
    "\n",
    "These functions return a `CoefficientFunction` which has the value 1 inside the region of interest and is 0 elsewhere. For regions of co-dimension>0, the result of `IndicatorSmoothed(lsets, eps)` is a `CoefficientFunction` with the value 1 in the `eps` region around the domain."
   ]
  },
  {
   "cell_type": "markdown",
   "metadata": {},
   "source": [
    "For illustration purposes, we shall consider fine meshes here, in order to render the indicator functions accurately within the NGSolve webgui. Alternaltievly, it is possible to visualise the indicator functions on coarse meshes in the netgen gui or in paraview (using vtk outputs). In these cases, a larger number of subdivisions is then necessary to get a resonalbly sharp representation on elements with multiple cuts."
   ]
  },
  {
   "cell_type": "code",
   "execution_count": null,
   "metadata": {},
   "outputs": [],
   "source": [
    "for i in range(2):\n",
    "    mesh.Refine()\n",
    "\n",
    "for i, lset_p1 in enumerate(level_sets_p1):\n",
    "    lset_p1.Update()\n",
    "    InterpolateToP1(level_sets[i], lset_p1)"
   ]
  },
  {
   "cell_type": "code",
   "execution_count": null,
   "metadata": {},
   "outputs": [],
   "source": [
    "DrawDC(outside_triangle.Indicator(level_sets_p1), -3.5, 2.5, mesh, \"outside_indicator\")"
   ]
  },
  {
   "cell_type": "markdown",
   "metadata": {
    "slideshow": {
     "slide_type": "subslide"
    }
   },
   "source": [
    "Similarly, `DomainTypeArray.IndicatorSmoothed(level_sets, eps)` returns a CoefficientFunction which has the value 1 in the `eps`-strip around the interface described in `DomainTypeArray`. This assumes that each level set function is approximately a distance function around the interface:"
   ]
  },
  {
   "cell_type": "code",
   "execution_count": null,
   "metadata": {
    "scrolled": true
   },
   "outputs": [],
   "source": [
    "DrawDC(boundary.IndicatorSmoothed(level_sets_p1, 0.06), -3.5, 2.5, mesh, \n",
    "       \"boundary_indicator\")"
   ]
  },
  {
   "cell_type": "code",
   "execution_count": null,
   "metadata": {},
   "outputs": [],
   "source": [
    "DrawDC(corners.IndicatorSmoothed(level_sets_p1, 0.06), -3.5, 2.5, mesh, \"boundary_indicator\")"
   ]
  },
  {
   "attachments": {},
   "cell_type": "markdown",
   "metadata": {},
   "source": [
    "Further details are discussed in the extended version of this jupyter tutorial [here](https://github.com/ngsxfem/ngsxfem-jupyter/blob/master/mlset_basic.ipynb)."
   ]
  }
 ],
 "metadata": {
  "kernelspec": {
   "display_name": "Python 3",
   "language": "python",
   "name": "python3"
  },
  "language_info": {
   "codemirror_mode": {
    "name": "ipython",
    "version": 3
   },
   "file_extension": ".py",
   "mimetype": "text/x-python",
   "name": "python",
   "nbconvert_exporter": "python",
   "pygments_lexer": "ipython3",
   "version": "3.10.10"
  },
  "toc": {
   "base_numbering": 1,
   "nav_menu": {},
   "number_sections": true,
   "sideBar": true,
   "skip_h1_title": false,
   "title_cell": "Table of Contents",
   "title_sidebar": "Contents",
   "toc_cell": false,
   "toc_position": {},
   "toc_section_display": true,
   "toc_window_display": false
  },
  "varInspector": {
   "cols": {
    "lenName": 16,
    "lenType": 16,
    "lenVar": 40
   },
   "kernels_config": {
    "python": {
     "delete_cmd_postfix": "",
     "delete_cmd_prefix": "del ",
     "library": "var_list.py",
     "varRefreshCmd": "print(var_dic_list())"
    },
    "r": {
     "delete_cmd_postfix": ") ",
     "delete_cmd_prefix": "rm(",
     "library": "var_list.r",
     "varRefreshCmd": "cat(var_dic_list()) "
    }
   },
   "types_to_exclude": [
    "module",
    "function",
    "builtin_function_or_method",
    "instance",
    "_Feature"
   ],
   "window_display": false
  }
 },
 "nbformat": 4,
 "nbformat_minor": 2
}
