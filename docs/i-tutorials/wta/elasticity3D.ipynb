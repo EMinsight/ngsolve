{
 "cells": [
  {
   "cell_type": "markdown",
   "id": "2f25f55f",
   "metadata": {},
   "source": [
    "# 3D Solid Mechanics"
   ]
  },
  {
   "cell_type": "code",
   "execution_count": 1,
   "id": "2ad7a13b",
   "metadata": {},
   "outputs": [
    {
     "data": {
      "text/plain": [
       "'6.2.2105-64-g8568b5f22'"
      ]
     },
     "execution_count": 1,
     "metadata": {},
     "output_type": "execute_result"
    }
   ],
   "source": [
    "from netgen.occ import *\n",
    "from netgen.webgui import Draw as DrawGeo\n",
    "import ngsolve\n",
    "ngsolve.__version__"
   ]
  },
  {
   "cell_type": "code",
   "execution_count": 2,
   "id": "cf326b31",
   "metadata": {},
   "outputs": [],
   "source": [
    "box = Box((0,0,0), (3,0.6,1))\n",
    "box.faces.name=\"outer\"\n",
    "cyl = sum( [Cylinder((0.5+i,0,0.5), Y, 0.25,0.8) for i in range(3)] )\n",
    "cyl.faces.name=\"cyl\"\n",
    "geo = box-cyl"
   ]
  },
  {
   "cell_type": "markdown",
   "id": "d54d7749",
   "metadata": {},
   "source": [
    "find edges between box and cylinder, and build chamfers:"
   ]
  },
  {
   "cell_type": "code",
   "execution_count": 3,
   "id": "83ffa5d4",
   "metadata": {},
   "outputs": [],
   "source": [
    "cylboxedges = geo.faces[\"outer\"].edges * geo.faces[\"cyl\"].edges\n",
    "cylboxedges.name = \"cylbox\"\n",
    "geo = geo.MakeChamfer(cylboxedges, 0.03)\n",
    "geo.faces.Min(X).name = \"fix\"\n",
    "geo.faces.Max(X).name = \"force\""
   ]
  },
  {
   "cell_type": "code",
   "execution_count": 4,
   "id": "8701d6a2",
   "metadata": {
    "scrolled": false
   },
   "outputs": [
    {
     "data": {
      "application/vnd.jupyter.widget-view+json": {
       "model_id": "b48dc1b39b5d493abd7149d583ad784c",
       "version_major": 2,
       "version_minor": 0
      },
      "text/plain": [
       "WebGuiWidget(value={'ngsolve_version': 'Netgen x.x', 'mesh_dim': 3, 'mesh_center': [1.5, 0.3, 0.5], 'mesh_radi…"
      ]
     },
     "metadata": {},
     "output_type": "display_data"
    }
   ],
   "source": [
    "DrawGeo(geo);"
   ]
  },
  {
   "cell_type": "code",
   "execution_count": 5,
   "id": "93554691",
   "metadata": {},
   "outputs": [
    {
     "data": {
      "application/vnd.jupyter.widget-view+json": {
       "model_id": "50d696d7652742ac9ada00353286fbb5",
       "version_major": 2,
       "version_minor": 0
      },
      "text/plain": [
       "WebGuiWidget(value={'ngsolve_version': '6.2.2105-64-g8568b5f22', 'mesh_dim': 3, 'order2d': 2, 'order3d': 2, 'd…"
      ]
     },
     "metadata": {},
     "output_type": "display_data"
    }
   ],
   "source": [
    "from ngsolve import *\n",
    "from ngsolve.webgui import Draw\n",
    "mesh = Mesh(OCCGeometry(geo).GenerateMesh(maxh=0.1)).Curve(3)\n",
    "Draw (mesh);"
   ]
  },
  {
   "cell_type": "code",
   "execution_count": 6,
   "id": "957549ab",
   "metadata": {},
   "outputs": [],
   "source": [
    "E, nu = 210, 0.2\n",
    "mu  = E / 2 / (1+nu)\n",
    "lam = E * nu / ((1+nu)*(1-2*nu))\n",
    "\n",
    "def Stress(strain):\n",
    "    return 2*mu*strain + lam*Trace(strain)*Id(3)    "
   ]
  },
  {
   "cell_type": "code",
   "execution_count": 7,
   "id": "00178f2a",
   "metadata": {},
   "outputs": [],
   "source": [
    "fes = VectorH1(mesh, order=3, dirichlet=\"fix\")\n",
    "u,v = fes.TnT()\n",
    "gfu = GridFunction(fes)\n",
    "\n",
    "with TaskManager():\n",
    "    a = BilinearForm(InnerProduct(Stress(Sym(Grad(u))), Sym(Grad(v))).Compile()*dx)\n",
    "    pre = Preconditioner(a, \"bddc\")\n",
    "    a.Assemble()"
   ]
  },
  {
   "cell_type": "code",
   "execution_count": 8,
   "id": "54b8ead2",
   "metadata": {},
   "outputs": [],
   "source": [
    "f = LinearForm(1e-3*v[0]*ds(\"force\")).Assemble()"
   ]
  },
  {
   "cell_type": "code",
   "execution_count": 9,
   "id": "4e0ec2a2",
   "metadata": {},
   "outputs": [
    {
     "name": "stdout",
     "output_type": "stream",
     "text": [
      "\u001b[2KCG converged in 93 iterations to residual 1.690213829965995e-16\n"
     ]
    }
   ],
   "source": [
    "from ngsolve.krylovspace import CGSolver\n",
    "inv = CGSolver(a.mat, pre, printrates='\\r')\n",
    "gfu.vec.data = inv * f.vec"
   ]
  },
  {
   "cell_type": "code",
   "execution_count": 10,
   "id": "c0845659",
   "metadata": {},
   "outputs": [],
   "source": [
    "with TaskManager():\n",
    "    fesstress = MatrixValued(H1(mesh,order=3), symmetric=True)\n",
    "    gfstress = GridFunction(fesstress)\n",
    "    gfstress.Interpolate (Stress(Sym(Grad(gfu))))"
   ]
  },
  {
   "cell_type": "code",
   "execution_count": 11,
   "id": "c889b0da",
   "metadata": {},
   "outputs": [
    {
     "data": {
      "application/vnd.jupyter.widget-view+json": {
       "model_id": "8fb81d785062421c83d76ef8048282c8",
       "version_major": 2,
       "version_minor": 0
      },
      "text/plain": [
       "WebGuiWidget(value={'ngsolve_version': '6.2.2105-64-g8568b5f22', 'mesh_dim': 3, 'order2d': 2, 'order3d': 2, 'd…"
      ]
     },
     "metadata": {},
     "output_type": "display_data"
    }
   ],
   "source": [
    "Draw (5e4*gfu, mesh);"
   ]
  },
  {
   "cell_type": "code",
   "execution_count": 12,
   "id": "c49a4f27",
   "metadata": {},
   "outputs": [
    {
     "data": {
      "application/vnd.jupyter.widget-view+json": {
       "model_id": "d23fe2b8909f4e2ebd028d12d184df4b",
       "version_major": 2,
       "version_minor": 0
      },
      "text/plain": [
       "WebGuiWidget(value={'ngsolve_version': '6.2.2105-64-g8568b5f22', 'mesh_dim': 3, 'order2d': 3, 'order3d': 2, 'd…"
      ]
     },
     "metadata": {},
     "output_type": "display_data"
    }
   ],
   "source": [
    "Draw (Norm(gfstress), mesh, deformation=2*gfu, draw_vol=False, order=3);"
   ]
  },
  {
   "cell_type": "code",
   "execution_count": null,
   "id": "876acb13",
   "metadata": {},
   "outputs": [],
   "source": []
  }
 ],
 "metadata": {
  "kernelspec": {
   "display_name": "Python 3 (ipykernel)",
   "language": "python",
   "name": "python3"
  },
  "language_info": {
   "codemirror_mode": {
    "name": "ipython",
    "version": 3
   },
   "file_extension": ".py",
   "mimetype": "text/x-python",
   "name": "python",
   "nbconvert_exporter": "python",
   "pygments_lexer": "ipython3",
   "version": "3.10.0"
  }
 },
 "nbformat": 4,
 "nbformat_minor": 5
}
