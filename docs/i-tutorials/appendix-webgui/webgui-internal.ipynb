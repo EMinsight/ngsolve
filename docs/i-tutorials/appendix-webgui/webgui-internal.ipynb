{
 "cells": [
  {
   "cell_type": "markdown",
   "id": "5f60fff0-60b1-4d6b-bf1c-abc61765f6d0",
   "metadata": {},
   "source": [
    "# Webgui - programming and internal features"
   ]
  },
  {
   "cell_type": "code",
   "execution_count": null,
   "id": "fbf09409-bf45-4451-8b3e-9e000d3c8bf2",
   "metadata": {},
   "outputs": [],
   "source": []
  }
 ],
 "metadata": {
  "kernelspec": {
   "display_name": "Python 3 (ipykernel)",
   "language": "python",
   "name": "python3"
  },
  "language_info": {
   "codemirror_mode": {
    "name": "ipython",
    "version": 3
   },
   "file_extension": ".py",
   "mimetype": "text/x-python",
   "name": "python",
   "nbconvert_exporter": "python",
   "pygments_lexer": "ipython3",
   "version": "3.11.3"
  }
 },
 "nbformat": 4,
 "nbformat_minor": 5
}
