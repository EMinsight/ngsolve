{
 "cells": [
  {
   "cell_type": "markdown",
   "metadata": {},
   "source": [
    "# 2.1.5 Algebraic Multigrid Methods\n",
    "\n",
    "more is coming ..."
   ]
  },
  {
   "cell_type": "markdown",
   "metadata": {},
   "source": [
    "## The builtin *h1amg*"
   ]
  },
  {
   "cell_type": "markdown",
   "metadata": {},
   "source": [
    "reduce memory requirements to a minimum:"
   ]
  },
  {
   "cell_type": "code",
   "execution_count": null,
   "metadata": {},
   "outputs": [],
   "source": [
    "from ngsolve import *\n",
    "from ngsolve.la import EigenValues_Preconditioner\n",
    "import netgen.meshing\n",
    "netgen.meshing.Mesh.EnableTableClass(\"edges\", False)\n",
    "netgen.meshing.Mesh.EnableTableClass(\"faces\", False)\n",
    "\n",
    "with TaskManager(pajetrace=10**8):\n",
    "    mesh = Mesh(unit_cube.GenerateMesh(maxh=0.1))\n",
    "    for l in range(3): mesh.Refine()    "
   ]
  },
  {
   "cell_type": "code",
   "execution_count": null,
   "metadata": {},
   "outputs": [],
   "source": [
    "# fes = H1(mesh, order=1, order_policy=ORDER_POLICY.CONSTANT)  # todo: fix withtout edge/face tables\n",
    "fes = FESpace(\"nodal\", mesh, order=1)\n",
    "print (\"ndof=\", fes.ndof)\n",
    "u,v = fes.TnT()\n",
    "a = BilinearForm(grad(u)*grad(v)*dx + 0.1*u*v*dx)\n",
    "pre = Preconditioner(a, \"h1amg\")\n",
    "with TaskManager(pajetrace=10**8):\n",
    "    a.Assemble();\n",
    "    lam = EigenValues_Preconditioner(a.mat, pre.mat)\n",
    "    print (list(lam[0:3]), '...', list(lam[-3:-1]))"
   ]
  },
  {
   "cell_type": "markdown",
   "metadata": {},
   "source": [
    "## H(curl) - AMG\n",
    "\n",
    "(WIP)"
   ]
  },
  {
   "cell_type": "code",
   "execution_count": null,
   "metadata": {},
   "outputs": [],
   "source": [
    "from ngsolve import *\n",
    "from ngsolve.la import EigenValues_Preconditioner\n",
    "import netgen.meshing\n",
    "netgen.meshing.Mesh.EnableTableClass(\"edges\", True)\n",
    "netgen.meshing.Mesh.EnableTableClass(\"faces\", True)\n",
    "\n",
    "with TaskManager():\n",
    "    mesh = Mesh(unit_cube.GenerateMesh(maxh=0.1))\n",
    "    for l in range(1): mesh.Refine()    "
   ]
  },
  {
   "cell_type": "code",
   "execution_count": null,
   "metadata": {},
   "outputs": [],
   "source": [
    "fes = HCurl(mesh, order=0)\n",
    "print (\"ndof = \", fes.ndof)\n",
    "u,v = fes.TnT()\n",
    "\n",
    "a = BilinearForm(curl(u)*curl(v)*dx + 0.01*u*v*dx)\n",
    "pre = Preconditioner(a, \"hcurlamg\")\n",
    "with TaskManager(): # pajetrace=10**9):\n",
    "    a.Assemble();\n",
    "    lam = EigenValues_Preconditioner(a.mat, pre.mat)\n",
    "    print (list(lam[0:3]), '...', list(lam[-3:-1]))"
   ]
  },
  {
   "cell_type": "code",
   "execution_count": null,
   "metadata": {},
   "outputs": [],
   "source": [
    "f = LinearForm(curl(v)[2]*dx).Assemble()\n",
    "gfu = GridFunction(fes)\n",
    "from ngsolve.krylovspace import CGSolver\n",
    "\n",
    "inv = CGSolver(a.mat, pre.mat, printrates=True, maxiter=200)\n",
    "\n",
    "gfu.vec[:] = inv*f.vec"
   ]
  },
  {
   "cell_type": "code",
   "execution_count": null,
   "metadata": {},
   "outputs": [],
   "source": []
  }
 ],
 "metadata": {
  "kernelspec": {
   "display_name": "Python 3 (ipykernel)",
   "language": "python",
   "name": "python3"
  },
  "language_info": {
   "codemirror_mode": {
    "name": "ipython",
    "version": 3
   },
   "file_extension": ".py",
   "mimetype": "text/x-python",
   "name": "python",
   "nbconvert_exporter": "python",
   "pygments_lexer": "ipython3",
   "version": "3.12.3"
  }
 },
 "nbformat": 4,
 "nbformat_minor": 4
}
